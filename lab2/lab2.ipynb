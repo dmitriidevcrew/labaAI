{
 "cells": [
  {
   "cell_type": "code",
   "execution_count": 17,
   "id": "7e4f0b24-36f0-443e-b2f4-a6150e11c8ff",
   "metadata": {},
   "outputs": [
    {
     "name": "stdout",
     "output_type": "stream",
     "text": [
      "[[0. 1. 0. 1. 0. 1. 0. 1.]\n",
      " [1. 0. 1. 0. 1. 0. 1. 0.]\n",
      " [0. 1. 0. 1. 0. 1. 0. 1.]\n",
      " [1. 0. 1. 0. 1. 0. 1. 0.]\n",
      " [0. 1. 0. 1. 0. 1. 0. 1.]\n",
      " [1. 0. 1. 0. 1. 0. 1. 0.]\n",
      " [0. 1. 0. 1. 0. 1. 0. 1.]\n",
      " [1. 0. 1. 0. 1. 0. 1. 0.]]\n"
     ]
    }
   ],
   "source": [
    "# EX 1.3.1\n",
    "import numpy as np\n",
    "A = np.zeros((8, 8))\n",
    "A[1::2, ::2], A[0::2, 1::2] = 1, 1\n",
    "print(A)"
   ]
  },
  {
   "cell_type": "code",
   "execution_count": 24,
   "id": "d8a7621d-cefe-4ad1-95a3-45dd8d257519",
   "metadata": {},
   "outputs": [
    {
     "name": "stdout",
     "output_type": "stream",
     "text": [
      "[[0. 1. 2. 3. 4.]\n",
      " [0. 1. 2. 3. 4.]\n",
      " [0. 1. 2. 3. 4.]\n",
      " [0. 1. 2. 3. 4.]\n",
      " [0. 1. 2. 3. 4.]]\n"
     ]
    }
   ],
   "source": [
    "# EX 1.3.2\n",
    "A = np.zeros((5, 5)) + np.arange(5)\n",
    "print(A)"
   ]
  },
  {
   "cell_type": "code",
   "execution_count": 26,
   "id": "9fd92d2e-924b-4635-8b17-530ca457e2be",
   "metadata": {},
   "outputs": [
    {
     "name": "stdout",
     "output_type": "stream",
     "text": [
      "[[[0.4030715  0.06625003 0.59568077]\n",
      "  [0.90253335 0.68762664 0.05680338]\n",
      "  [0.44640827 0.52588444 0.16329622]]\n",
      "\n",
      " [[0.76078991 0.82326169 0.10114054]\n",
      "  [0.13099485 0.78888745 0.78362085]\n",
      "  [0.62454944 0.12751803 0.69429175]]\n",
      "\n",
      " [[0.82894185 0.11552753 0.71911647]\n",
      "  [0.11280308 0.2226859  0.09304955]\n",
      "  [0.85454141 0.53475539 0.95446347]]]\n"
     ]
    }
   ],
   "source": [
    "#EX 1.3.3\n",
    "A = np.random.random(((3, 3, 3)))\n",
    "print(A)"
   ]
  },
  {
   "cell_type": "code",
   "execution_count": 40,
   "id": "f6dcea83-6a9b-44ce-987f-55571c85bf1e",
   "metadata": {},
   "outputs": [
    {
     "name": "stdin",
     "output_type": "stream",
     "text": [
      " 5\n"
     ]
    },
    {
     "name": "stdout",
     "output_type": "stream",
     "text": [
      "[[1. 1. 1. 1. 1.]\n",
      " [1. 0. 0. 0. 1.]\n",
      " [1. 0. 0. 0. 1.]\n",
      " [1. 0. 0. 0. 1.]\n",
      " [1. 1. 1. 1. 1.]]\n",
      "[[1. 1. 1. 1. 1.]\n",
      " [1. 0. 0. 0. 1.]\n",
      " [1. 0. 0. 0. 1.]\n",
      " [1. 0. 0. 0. 1.]\n",
      " [1. 1. 1. 1. 1.]]\n"
     ]
    }
   ],
   "source": [
    "# EX 1.3.4\n",
    "x = int(input())\n",
    "A = np.zeros((x, x))\n",
    "for i in range(x):\n",
    "    A[0][i], A[i][x-1], A[x-1][i], A[i][0] = 1, 1, 1, 1\n",
    "print(A)\n",
    "\n",
    "B = np.ones((x, x))\n",
    "B[1:-1, 1:-1] = 0\n",
    "print(B)"
   ]
  },
  {
   "cell_type": "code",
   "execution_count": 41,
   "id": "296ddef2-f278-4ccf-90a8-cc6ab0ebb4ac",
   "metadata": {},
   "outputs": [
    {
     "name": "stdout",
     "output_type": "stream",
     "text": [
      "[9, 8, 7, 6, 5, 4, 3, 2, 1, 0]\n"
     ]
    }
   ],
   "source": [
    "# EX 1.3.5\n",
    "x = [i for i in range(10)]\n",
    "x.sort(reverse=True)\n",
    "print(x)"
   ]
  },
  {
   "cell_type": "code",
   "execution_count": 47,
   "id": "817c91af-2817-4668-b0be-c14cb241bb88",
   "metadata": {},
   "outputs": [
    {
     "name": "stdout",
     "output_type": "stream",
     "text": [
      "[[[0.79675773 0.80384085 0.48904089]\n",
      "  [0.40664309 0.49362941 0.7953062 ]\n",
      "  [0.99359207 0.83091824 0.72960723]]\n",
      "\n",
      " [[0.77034043 0.95713938 0.91532231]\n",
      "  [0.58150561 0.52296492 0.9204566 ]\n",
      "  [0.76054627 0.06112936 0.61127316]]\n",
      "\n",
      " [[0.09523192 0.73741107 0.3143457 ]\n",
      "  [0.15828407 0.46838156 0.70994962]\n",
      "  [0.00722784 0.32459936 0.55431205]]]\n",
      "(3, 3, 3)\n",
      "27\n",
      "8\n"
     ]
    }
   ],
   "source": [
    "# EX 1.3.6\n",
    "x = np.random.random(((3, 3, 3)))\n",
    "print(x)\n",
    "print(x.shape)\n",
    "print(x.size)\n",
    "print(x.itemsize)"
   ]
  },
  {
   "cell_type": "code",
   "execution_count": 8,
   "id": "9234027a-3bcf-42dc-af88-451671561c74",
   "metadata": {},
   "outputs": [
    {
     "name": "stdout",
     "output_type": "stream",
     "text": [
      "[1 1 1 1]\n",
      "4\n",
      "2.0\n"
     ]
    }
   ],
   "source": [
    "# EX 2.3.1\n",
    "a = np.array(([1, 2, 3, 4]))\n",
    "b = np.array(([2, 3, 4, 5]))\n",
    "s = np.square(a - b)\n",
    "print(s)\n",
    "summ = np.sum(s)\n",
    "print(summ)\n",
    "evk = np.sqrt(summ)\n",
    "print(evk)"
   ]
  },
  {
   "cell_type": "code",
   "execution_count": 37,
   "id": "ba56d2e0-766b-4cc6-849b-5b3e72f28b99",
   "metadata": {},
   "outputs": [
    {
     "data": {
      "text/html": [
       "<div>\n",
       "<style scoped>\n",
       "    .dataframe tbody tr th:only-of-type {\n",
       "        vertical-align: middle;\n",
       "    }\n",
       "\n",
       "    .dataframe tbody tr th {\n",
       "        vertical-align: top;\n",
       "    }\n",
       "\n",
       "    .dataframe thead th {\n",
       "        text-align: right;\n",
       "    }\n",
       "</style>\n",
       "<table border=\"1\" class=\"dataframe\">\n",
       "  <thead>\n",
       "    <tr style=\"text-align: right;\">\n",
       "      <th></th>\n",
       "      <th>my_datetime</th>\n",
       "      <th>event</th>\n",
       "      <th>country</th>\n",
       "      <th>user_id</th>\n",
       "      <th>source</th>\n",
       "      <th>topic</th>\n",
       "    </tr>\n",
       "  </thead>\n",
       "  <tbody>\n",
       "    <tr>\n",
       "      <th>0</th>\n",
       "      <td>2018-01-01 00:01:01</td>\n",
       "      <td>read</td>\n",
       "      <td>country_7</td>\n",
       "      <td>2458151261</td>\n",
       "      <td>SEO</td>\n",
       "      <td>North America</td>\n",
       "    </tr>\n",
       "    <tr>\n",
       "      <th>1</th>\n",
       "      <td>2018-01-01 00:03:20</td>\n",
       "      <td>read</td>\n",
       "      <td>country_7</td>\n",
       "      <td>2458151262</td>\n",
       "      <td>SEO</td>\n",
       "      <td>South America</td>\n",
       "    </tr>\n",
       "    <tr>\n",
       "      <th>2</th>\n",
       "      <td>2018-01-01 00:04:01</td>\n",
       "      <td>read</td>\n",
       "      <td>country_7</td>\n",
       "      <td>2458151263</td>\n",
       "      <td>AdWords</td>\n",
       "      <td>Africa</td>\n",
       "    </tr>\n",
       "    <tr>\n",
       "      <th>3</th>\n",
       "      <td>2018-01-01 00:04:02</td>\n",
       "      <td>read</td>\n",
       "      <td>country_7</td>\n",
       "      <td>2458151264</td>\n",
       "      <td>AdWords</td>\n",
       "      <td>Europe</td>\n",
       "    </tr>\n",
       "    <tr>\n",
       "      <th>4</th>\n",
       "      <td>2018-01-01 00:05:03</td>\n",
       "      <td>read</td>\n",
       "      <td>country_8</td>\n",
       "      <td>2458151265</td>\n",
       "      <td>Reddit</td>\n",
       "      <td>North America</td>\n",
       "    </tr>\n",
       "  </tbody>\n",
       "</table>\n",
       "</div>"
      ],
      "text/plain": [
       "           my_datetime event    country     user_id   source          topic\n",
       "0  2018-01-01 00:01:01  read  country_7  2458151261      SEO  North America\n",
       "1  2018-01-01 00:03:20  read  country_7  2458151262      SEO  South America\n",
       "2  2018-01-01 00:04:01  read  country_7  2458151263  AdWords         Africa\n",
       "3  2018-01-01 00:04:02  read  country_7  2458151264  AdWords         Europe\n",
       "4  2018-01-01 00:05:03  read  country_8  2458151265   Reddit  North America"
      ]
     },
     "execution_count": 37,
     "metadata": {},
     "output_type": "execute_result"
    }
   ],
   "source": [
    "# EX 2.3.2\n",
    "import pandas as pd\n",
    "frame=pd.read_csv('pandas_tutorial_read.csv',  delimiter=';', names=['my_datetime', 'event', 'country', 'user_id', 'source', 'topic'])\n",
    "frame.head()"
   ]
  },
  {
   "cell_type": "code",
   "execution_count": 38,
   "id": "baf48498-76df-4df4-aa59-107332c9590d",
   "metadata": {},
   "outputs": [
    {
     "data": {
      "text/html": [
       "<div>\n",
       "<style scoped>\n",
       "    .dataframe tbody tr th:only-of-type {\n",
       "        vertical-align: middle;\n",
       "    }\n",
       "\n",
       "    .dataframe tbody tr th {\n",
       "        vertical-align: top;\n",
       "    }\n",
       "\n",
       "    .dataframe thead th {\n",
       "        text-align: right;\n",
       "    }\n",
       "</style>\n",
       "<table border=\"1\" class=\"dataframe\">\n",
       "  <thead>\n",
       "    <tr style=\"text-align: right;\">\n",
       "      <th></th>\n",
       "      <th>my_datetime</th>\n",
       "      <th>event</th>\n",
       "      <th>country</th>\n",
       "      <th>user_id</th>\n",
       "      <th>source</th>\n",
       "      <th>topic</th>\n",
       "    </tr>\n",
       "  </thead>\n",
       "  <tbody>\n",
       "    <tr>\n",
       "      <th>1793</th>\n",
       "      <td>2018-01-01 23:59:36</td>\n",
       "      <td>read</td>\n",
       "      <td>country_7</td>\n",
       "      <td>2458153054</td>\n",
       "      <td>AdWords</td>\n",
       "      <td>Europe</td>\n",
       "    </tr>\n",
       "    <tr>\n",
       "      <th>1794</th>\n",
       "      <td>2018-01-01 23:59:38</td>\n",
       "      <td>read</td>\n",
       "      <td>country_5</td>\n",
       "      <td>2458153055</td>\n",
       "      <td>Reddit</td>\n",
       "      <td>Asia</td>\n",
       "    </tr>\n",
       "  </tbody>\n",
       "</table>\n",
       "</div>"
      ],
      "text/plain": [
       "              my_datetime event    country     user_id   source   topic\n",
       "1793  2018-01-01 23:59:36  read  country_7  2458153054  AdWords  Europe\n",
       "1794  2018-01-01 23:59:38  read  country_5  2458153055   Reddit    Asia"
      ]
     },
     "execution_count": 38,
     "metadata": {},
     "output_type": "execute_result"
    }
   ],
   "source": [
    "# EX 2.3.3\n",
    "frame.tail(2)"
   ]
  },
  {
   "cell_type": "code",
   "execution_count": 39,
   "id": "50a734d3-e824-40b4-b5c9-34acb8c73279",
   "metadata": {},
   "outputs": [
    {
     "data": {
      "text/plain": [
       "(1795, 6)"
      ]
     },
     "execution_count": 39,
     "metadata": {},
     "output_type": "execute_result"
    }
   ],
   "source": [
    "frame.shape"
   ]
  },
  {
   "cell_type": "code",
   "execution_count": 40,
   "id": "17cf24c3-0004-427c-af64-c1eb94e31d2d",
   "metadata": {},
   "outputs": [
    {
     "data": {
      "text/html": [
       "<div>\n",
       "<style scoped>\n",
       "    .dataframe tbody tr th:only-of-type {\n",
       "        vertical-align: middle;\n",
       "    }\n",
       "\n",
       "    .dataframe tbody tr th {\n",
       "        vertical-align: top;\n",
       "    }\n",
       "\n",
       "    .dataframe thead th {\n",
       "        text-align: right;\n",
       "    }\n",
       "</style>\n",
       "<table border=\"1\" class=\"dataframe\">\n",
       "  <thead>\n",
       "    <tr style=\"text-align: right;\">\n",
       "      <th></th>\n",
       "      <th>user_id</th>\n",
       "    </tr>\n",
       "  </thead>\n",
       "  <tbody>\n",
       "    <tr>\n",
       "      <th>count</th>\n",
       "      <td>1.795000e+03</td>\n",
       "    </tr>\n",
       "    <tr>\n",
       "      <th>mean</th>\n",
       "      <td>2.458152e+09</td>\n",
       "    </tr>\n",
       "    <tr>\n",
       "      <th>std</th>\n",
       "      <td>5.183162e+02</td>\n",
       "    </tr>\n",
       "    <tr>\n",
       "      <th>min</th>\n",
       "      <td>2.458151e+09</td>\n",
       "    </tr>\n",
       "    <tr>\n",
       "      <th>25%</th>\n",
       "      <td>2.458152e+09</td>\n",
       "    </tr>\n",
       "    <tr>\n",
       "      <th>50%</th>\n",
       "      <td>2.458152e+09</td>\n",
       "    </tr>\n",
       "    <tr>\n",
       "      <th>75%</th>\n",
       "      <td>2.458153e+09</td>\n",
       "    </tr>\n",
       "    <tr>\n",
       "      <th>max</th>\n",
       "      <td>2.458153e+09</td>\n",
       "    </tr>\n",
       "  </tbody>\n",
       "</table>\n",
       "</div>"
      ],
      "text/plain": [
       "            user_id\n",
       "count  1.795000e+03\n",
       "mean   2.458152e+09\n",
       "std    5.183162e+02\n",
       "min    2.458151e+09\n",
       "25%    2.458152e+09\n",
       "50%    2.458152e+09\n",
       "75%    2.458153e+09\n",
       "max    2.458153e+09"
      ]
     },
     "execution_count": 40,
     "metadata": {},
     "output_type": "execute_result"
    }
   ],
   "source": [
    "frame.describe()"
   ]
  },
  {
   "cell_type": "code",
   "execution_count": 41,
   "id": "80fb6b97-1410-4e71-92bd-88de1238124b",
   "metadata": {
    "scrolled": true
   },
   "outputs": [
    {
     "data": {
      "text/html": [
       "<div>\n",
       "<style scoped>\n",
       "    .dataframe tbody tr th:only-of-type {\n",
       "        vertical-align: middle;\n",
       "    }\n",
       "\n",
       "    .dataframe tbody tr th {\n",
       "        vertical-align: top;\n",
       "    }\n",
       "\n",
       "    .dataframe thead th {\n",
       "        text-align: right;\n",
       "    }\n",
       "</style>\n",
       "<table border=\"1\" class=\"dataframe\">\n",
       "  <thead>\n",
       "    <tr style=\"text-align: right;\">\n",
       "      <th></th>\n",
       "      <th>my_datetime</th>\n",
       "      <th>event</th>\n",
       "      <th>country</th>\n",
       "      <th>user_id</th>\n",
       "      <th>source</th>\n",
       "      <th>topic</th>\n",
       "    </tr>\n",
       "  </thead>\n",
       "  <tbody>\n",
       "    <tr>\n",
       "      <th>2</th>\n",
       "      <td>2018-01-01 00:04:01</td>\n",
       "      <td>read</td>\n",
       "      <td>country_7</td>\n",
       "      <td>2458151263</td>\n",
       "      <td>AdWords</td>\n",
       "      <td>Africa</td>\n",
       "    </tr>\n",
       "    <tr>\n",
       "      <th>3</th>\n",
       "      <td>2018-01-01 00:04:02</td>\n",
       "      <td>read</td>\n",
       "      <td>country_7</td>\n",
       "      <td>2458151264</td>\n",
       "      <td>AdWords</td>\n",
       "      <td>Europe</td>\n",
       "    </tr>\n",
       "    <tr>\n",
       "      <th>4</th>\n",
       "      <td>2018-01-01 00:05:03</td>\n",
       "      <td>read</td>\n",
       "      <td>country_8</td>\n",
       "      <td>2458151265</td>\n",
       "      <td>Reddit</td>\n",
       "      <td>North America</td>\n",
       "    </tr>\n",
       "    <tr>\n",
       "      <th>5</th>\n",
       "      <td>2018-01-01 00:05:42</td>\n",
       "      <td>read</td>\n",
       "      <td>country_6</td>\n",
       "      <td>2458151266</td>\n",
       "      <td>Reddit</td>\n",
       "      <td>North America</td>\n",
       "    </tr>\n",
       "    <tr>\n",
       "      <th>6</th>\n",
       "      <td>2018-01-01 00:06:06</td>\n",
       "      <td>read</td>\n",
       "      <td>country_2</td>\n",
       "      <td>2458151267</td>\n",
       "      <td>Reddit</td>\n",
       "      <td>Europe</td>\n",
       "    </tr>\n",
       "    <tr>\n",
       "      <th>7</th>\n",
       "      <td>2018-01-01 00:06:15</td>\n",
       "      <td>read</td>\n",
       "      <td>country_6</td>\n",
       "      <td>2458151268</td>\n",
       "      <td>AdWords</td>\n",
       "      <td>Europe</td>\n",
       "    </tr>\n",
       "    <tr>\n",
       "      <th>8</th>\n",
       "      <td>2018-01-01 00:07:21</td>\n",
       "      <td>read</td>\n",
       "      <td>country_7</td>\n",
       "      <td>2458151269</td>\n",
       "      <td>AdWords</td>\n",
       "      <td>North America</td>\n",
       "    </tr>\n",
       "    <tr>\n",
       "      <th>9</th>\n",
       "      <td>2018-01-01 00:07:29</td>\n",
       "      <td>read</td>\n",
       "      <td>country_5</td>\n",
       "      <td>2458151270</td>\n",
       "      <td>Reddit</td>\n",
       "      <td>North America</td>\n",
       "    </tr>\n",
       "  </tbody>\n",
       "</table>\n",
       "</div>"
      ],
      "text/plain": [
       "           my_datetime event    country     user_id   source          topic\n",
       "2  2018-01-01 00:04:01  read  country_7  2458151263  AdWords         Africa\n",
       "3  2018-01-01 00:04:02  read  country_7  2458151264  AdWords         Europe\n",
       "4  2018-01-01 00:05:03  read  country_8  2458151265   Reddit  North America\n",
       "5  2018-01-01 00:05:42  read  country_6  2458151266   Reddit  North America\n",
       "6  2018-01-01 00:06:06  read  country_2  2458151267   Reddit         Europe\n",
       "7  2018-01-01 00:06:15  read  country_6  2458151268  AdWords         Europe\n",
       "8  2018-01-01 00:07:21  read  country_7  2458151269  AdWords  North America\n",
       "9  2018-01-01 00:07:29  read  country_5  2458151270   Reddit  North America"
      ]
     },
     "execution_count": 41,
     "metadata": {},
     "output_type": "execute_result"
    }
   ],
   "source": [
    "frame.iloc[2:10]"
   ]
  },
  {
   "cell_type": "code",
   "execution_count": 42,
   "id": "bc2044da-3aff-4f9b-9c24-f7d748471a2f",
   "metadata": {},
   "outputs": [
    {
     "data": {
      "text/html": [
       "<div>\n",
       "<style scoped>\n",
       "    .dataframe tbody tr th:only-of-type {\n",
       "        vertical-align: middle;\n",
       "    }\n",
       "\n",
       "    .dataframe tbody tr th {\n",
       "        vertical-align: top;\n",
       "    }\n",
       "\n",
       "    .dataframe thead th {\n",
       "        text-align: right;\n",
       "    }\n",
       "</style>\n",
       "<table border=\"1\" class=\"dataframe\">\n",
       "  <thead>\n",
       "    <tr style=\"text-align: right;\">\n",
       "      <th></th>\n",
       "      <th>my_datetime</th>\n",
       "      <th>event</th>\n",
       "      <th>country</th>\n",
       "      <th>user_id</th>\n",
       "      <th>source</th>\n",
       "      <th>topic</th>\n",
       "    </tr>\n",
       "  </thead>\n",
       "  <tbody>\n",
       "    <tr>\n",
       "      <th>4</th>\n",
       "      <td>2018-01-01 00:05:03</td>\n",
       "      <td>read</td>\n",
       "      <td>country_8</td>\n",
       "      <td>2458151265</td>\n",
       "      <td>Reddit</td>\n",
       "      <td>North America</td>\n",
       "    </tr>\n",
       "    <tr>\n",
       "      <th>16</th>\n",
       "      <td>2018-01-01 00:13:05</td>\n",
       "      <td>read</td>\n",
       "      <td>country_8</td>\n",
       "      <td>2458151277</td>\n",
       "      <td>SEO</td>\n",
       "      <td>North America</td>\n",
       "    </tr>\n",
       "    <tr>\n",
       "      <th>45</th>\n",
       "      <td>2018-01-01 00:37:35</td>\n",
       "      <td>read</td>\n",
       "      <td>country_8</td>\n",
       "      <td>2458151306</td>\n",
       "      <td>AdWords</td>\n",
       "      <td>Asia</td>\n",
       "    </tr>\n",
       "  </tbody>\n",
       "</table>\n",
       "</div>"
      ],
      "text/plain": [
       "            my_datetime event    country     user_id   source          topic\n",
       "4   2018-01-01 00:05:03  read  country_8  2458151265   Reddit  North America\n",
       "16  2018-01-01 00:13:05  read  country_8  2458151277      SEO  North America\n",
       "45  2018-01-01 00:37:35  read  country_8  2458151306  AdWords           Asia"
      ]
     },
     "execution_count": 42,
     "metadata": {},
     "output_type": "execute_result"
    }
   ],
   "source": [
    "frame[frame['country'] == 'country_8'].head(3)"
   ]
  },
  {
   "cell_type": "code",
   "execution_count": 90,
   "id": "18a7eff7-d4e1-43c8-bb6b-cf0231b8b5b4",
   "metadata": {},
   "outputs": [
    {
     "data": {
      "text/html": [
       "<div>\n",
       "<style scoped>\n",
       "    .dataframe tbody tr th:only-of-type {\n",
       "        vertical-align: middle;\n",
       "    }\n",
       "\n",
       "    .dataframe tbody tr th {\n",
       "        vertical-align: top;\n",
       "    }\n",
       "\n",
       "    .dataframe thead th {\n",
       "        text-align: right;\n",
       "    }\n",
       "</style>\n",
       "<table border=\"1\" class=\"dataframe\">\n",
       "  <thead>\n",
       "    <tr style=\"text-align: right;\">\n",
       "      <th></th>\n",
       "      <th>sepal_length_cm</th>\n",
       "      <th>sepal_width_cm</th>\n",
       "      <th>petal_length_cm</th>\n",
       "      <th>petal_width_cm</th>\n",
       "      <th>species</th>\n",
       "    </tr>\n",
       "  </thead>\n",
       "  <tbody>\n",
       "    <tr>\n",
       "      <th>0</th>\n",
       "      <td>0.222222</td>\n",
       "      <td>1.032057</td>\n",
       "      <td>1.4</td>\n",
       "      <td>0.2</td>\n",
       "      <td>setosa</td>\n",
       "    </tr>\n",
       "    <tr>\n",
       "      <th>1</th>\n",
       "      <td>0.166667</td>\n",
       "      <td>-0.124958</td>\n",
       "      <td>1.4</td>\n",
       "      <td>0.2</td>\n",
       "      <td>setosa</td>\n",
       "    </tr>\n",
       "    <tr>\n",
       "      <th>2</th>\n",
       "      <td>0.111111</td>\n",
       "      <td>0.337848</td>\n",
       "      <td>1.3</td>\n",
       "      <td>0.2</td>\n",
       "      <td>setosa</td>\n",
       "    </tr>\n",
       "    <tr>\n",
       "      <th>3</th>\n",
       "      <td>0.083333</td>\n",
       "      <td>0.106445</td>\n",
       "      <td>1.5</td>\n",
       "      <td>0.2</td>\n",
       "      <td>setosa</td>\n",
       "    </tr>\n",
       "    <tr>\n",
       "      <th>4</th>\n",
       "      <td>0.194444</td>\n",
       "      <td>1.263460</td>\n",
       "      <td>1.4</td>\n",
       "      <td>0.2</td>\n",
       "      <td>setosa</td>\n",
       "    </tr>\n",
       "    <tr>\n",
       "      <th>...</th>\n",
       "      <td>...</td>\n",
       "      <td>...</td>\n",
       "      <td>...</td>\n",
       "      <td>...</td>\n",
       "      <td>...</td>\n",
       "    </tr>\n",
       "    <tr>\n",
       "      <th>145</th>\n",
       "      <td>0.666667</td>\n",
       "      <td>-0.124958</td>\n",
       "      <td>5.2</td>\n",
       "      <td>2.3</td>\n",
       "      <td>virginica</td>\n",
       "    </tr>\n",
       "    <tr>\n",
       "      <th>146</th>\n",
       "      <td>0.555556</td>\n",
       "      <td>-1.281972</td>\n",
       "      <td>5.0</td>\n",
       "      <td>1.9</td>\n",
       "      <td>virginica</td>\n",
       "    </tr>\n",
       "    <tr>\n",
       "      <th>147</th>\n",
       "      <td>0.611111</td>\n",
       "      <td>-0.124958</td>\n",
       "      <td>5.2</td>\n",
       "      <td>2.0</td>\n",
       "      <td>virginica</td>\n",
       "    </tr>\n",
       "    <tr>\n",
       "      <th>148</th>\n",
       "      <td>0.527778</td>\n",
       "      <td>0.800654</td>\n",
       "      <td>5.4</td>\n",
       "      <td>2.3</td>\n",
       "      <td>virginica</td>\n",
       "    </tr>\n",
       "    <tr>\n",
       "      <th>149</th>\n",
       "      <td>0.444444</td>\n",
       "      <td>-0.124958</td>\n",
       "      <td>5.1</td>\n",
       "      <td>1.8</td>\n",
       "      <td>virginica</td>\n",
       "    </tr>\n",
       "  </tbody>\n",
       "</table>\n",
       "<p>150 rows × 5 columns</p>\n",
       "</div>"
      ],
      "text/plain": [
       "     sepal_length_cm  sepal_width_cm  petal_length_cm  petal_width_cm  \\\n",
       "0           0.222222        1.032057              1.4             0.2   \n",
       "1           0.166667       -0.124958              1.4             0.2   \n",
       "2           0.111111        0.337848              1.3             0.2   \n",
       "3           0.083333        0.106445              1.5             0.2   \n",
       "4           0.194444        1.263460              1.4             0.2   \n",
       "..               ...             ...              ...             ...   \n",
       "145         0.666667       -0.124958              5.2             2.3   \n",
       "146         0.555556       -1.281972              5.0             1.9   \n",
       "147         0.611111       -0.124958              5.2             2.0   \n",
       "148         0.527778        0.800654              5.4             2.3   \n",
       "149         0.444444       -0.124958              5.1             1.8   \n",
       "\n",
       "       species  \n",
       "0       setosa  \n",
       "1       setosa  \n",
       "2       setosa  \n",
       "3       setosa  \n",
       "4       setosa  \n",
       "..         ...  \n",
       "145  virginica  \n",
       "146  virginica  \n",
       "147  virginica  \n",
       "148  virginica  \n",
       "149  virginica  \n",
       "\n",
       "[150 rows x 5 columns]"
      ]
     },
     "execution_count": 90,
     "metadata": {},
     "output_type": "execute_result"
    }
   ],
   "source": [
    "# EX 3.3.2\n",
    "import pandas as pd\n",
    "from sklearn.preprocessing import MinMaxScaler as mn\n",
    "from sklearn.preprocessing import StandardScaler as sc\n",
    "frame = pd.read_table('iris.txt', delimiter=\",\")\n",
    "\n",
    "scaler = mn()\n",
    "frame[['sepal_length_cm']] = scaler.fit_transform(frame[['sepal_length_cm']])\n",
    "\n",
    "scaler = sc()\n",
    "frame[['sepal_width_cm']] = scaler.fit_transform(frame1[['sepal_width_cm']])\n",
    "\n",
    "\n",
    "frame"
   ]
  }
 ],
 "metadata": {
  "kernelspec": {
   "display_name": "Python 3 (ipykernel)",
   "language": "python",
   "name": "python3"
  },
  "language_info": {
   "codemirror_mode": {
    "name": "ipython",
    "version": 3
   },
   "file_extension": ".py",
   "mimetype": "text/x-python",
   "name": "python",
   "nbconvert_exporter": "python",
   "pygments_lexer": "ipython3",
   "version": "3.11.5"
  }
 },
 "nbformat": 4,
 "nbformat_minor": 5
}
