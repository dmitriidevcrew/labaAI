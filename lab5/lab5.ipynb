{
 "cells": [
  {
   "cell_type": "markdown",
   "id": "f1013a98-7509-4bf5-9598-9e9cda7900af",
   "metadata": {},
   "source": [
    "<div style=\"font-size: 18px\"><b>1.2.1 Пример</b></div>\n",
    "<br><i>Необходимо разработать виртуальную модель процесса обучения. В программе должны быть объекты-ученики, учитель, кладезь знаний.</i>\n"
   ]
  },
  {
   "cell_type": "code",
   "execution_count": 1,
   "id": "e02a3776-b77a-493b-9e5b-aa5851c530f7",
   "metadata": {},
   "outputs": [
    {
     "name": "stdout",
     "output_type": "stream",
     "text": [
      "['inheritance']\n",
      "['inheritance', 'class']\n"
     ]
    }
   ],
   "source": [
    "class Data:\n",
    "    def __init__(self, *info):\n",
    "        self.info = list(info)\n",
    "    def __getitem__(self, i):\n",
    "        return self.info[i]\n",
    "\n",
    "class Teacher:\n",
    "    def teach(self, info, *pupil):\n",
    "        for i in pupil:\n",
    "            i.take(info)\n",
    "\n",
    "class Pupil:\n",
    "    def __init__(self):\n",
    "        self.knowledge = []\n",
    "    def take(self, info):\n",
    "        self.knowledge.append(info)\n",
    "\n",
    "lesson = Data('class', 'object', 'inheritance', 'polymorphism', 'encapsulation')\n",
    "marIvanna = Teacher()\n",
    "vasy = Pupil()\n",
    "pety = Pupil()\n",
    "marIvanna.teach(lesson[2], vasy, pety)\n",
    "marIvanna.teach(lesson[0], pety)\n",
    "print(vasy.knowledge)\n",
    "print(pety.knowledge)"
   ]
  },
  {
   "cell_type": "markdown",
   "id": "d7705b17-f6a2-4cd6-bd25-cd3f93562251",
   "metadata": {},
   "source": [
    "<div style=\"font-size: 18px\"><b>1.2.2 Пример</b></div>\n",
    "<br><i>Напишите программу по следующему описанию. Есть класс \"Воин\". От \n",
    "него создаются два экземпляра-юнита. Каждому устанавливается здоровье \n",
    "в 100 очков. В случайном порядке они бьют друг друга. Тот, кто бьет, \n",
    "здоровья не теряет. У того, кого бьют, оно уменьшается на 20 очков от \n",
    "одного удара. После каждого удара надо выводить сообщение, какой юнит \n",
    "атаковал, и сколько у противника осталось здоровья. Как только у кого-то \n",
    "заканчивается ресурс здоровья, программа завершается сообщением о том, \n",
    "кто одержал победу.</i>"
   ]
  },
  {
   "cell_type": "code",
   "execution_count": 2,
   "id": "ff1243f5-cc7a-4833-b5bc-72c85383e00c",
   "metadata": {},
   "outputs": [
    {
     "name": "stdin",
     "output_type": "stream",
     "text": [
      "Enter 1 to attack. Enter 2 to stop program:  1\n"
     ]
    },
    {
     "name": "stdout",
     "output_type": "stream",
     "text": [
      "Warrior2  has attacked\n",
      "80  left\n"
     ]
    },
    {
     "name": "stdin",
     "output_type": "stream",
     "text": [
      "Enter 1 to let some warrior attack 1\n"
     ]
    },
    {
     "name": "stdout",
     "output_type": "stream",
     "text": [
      "Warrior1  has attacked\n",
      "80  left\n"
     ]
    },
    {
     "name": "stdin",
     "output_type": "stream",
     "text": [
      "Enter 1 to let some warrior attack 1\n"
     ]
    },
    {
     "name": "stdout",
     "output_type": "stream",
     "text": [
      "Warrior1  has attacked\n",
      "60  left\n"
     ]
    },
    {
     "name": "stdin",
     "output_type": "stream",
     "text": [
      "Enter 1 to let some warrior attack 1\n"
     ]
    },
    {
     "name": "stdout",
     "output_type": "stream",
     "text": [
      "Warrior2  has attacked\n",
      "60  left\n"
     ]
    },
    {
     "name": "stdin",
     "output_type": "stream",
     "text": [
      "Enter 1 to let some warrior attack 1\n"
     ]
    },
    {
     "name": "stdout",
     "output_type": "stream",
     "text": [
      "Warrior1  has attacked\n",
      "40  left\n"
     ]
    },
    {
     "name": "stdin",
     "output_type": "stream",
     "text": [
      "Enter 1 to let some warrior attack 1\n"
     ]
    },
    {
     "name": "stdout",
     "output_type": "stream",
     "text": [
      "Warrior2  has attacked\n",
      "40  left\n"
     ]
    },
    {
     "name": "stdin",
     "output_type": "stream",
     "text": [
      "Enter 1 to let some warrior attack 1\n"
     ]
    },
    {
     "name": "stdout",
     "output_type": "stream",
     "text": [
      "Warrior2  has attacked\n",
      "20  left\n"
     ]
    },
    {
     "name": "stdin",
     "output_type": "stream",
     "text": [
      "Enter 1 to let some warrior attack 1\n"
     ]
    },
    {
     "name": "stdout",
     "output_type": "stream",
     "text": [
      "Warrior1  has attacked\n",
      "20  left\n"
     ]
    },
    {
     "name": "stdin",
     "output_type": "stream",
     "text": [
      "Enter 1 to let some warrior attack 1\n"
     ]
    },
    {
     "name": "stdout",
     "output_type": "stream",
     "text": [
      "Warrior2  has attacked\n",
      "0  left\n",
      "Warrior2  has won\n"
     ]
    },
    {
     "name": "stdin",
     "output_type": "stream",
     "text": [
      "Enter 1 to let some warrior attack 2\n"
     ]
    }
   ],
   "source": [
    "import random\n",
    "class Warrior:\n",
    "    def __init__(self, health):\n",
    "        self.health = health\n",
    "\n",
    "    def hit(self, target, target1):\n",
    "        if target.health > 0:\n",
    "            target.health -= 20\n",
    "        if target1 == warrior1:\n",
    "            target1 = \"Warrior1\"\n",
    "        if target1 == warrior2:\n",
    "            target1 = \"Warrior2\"\n",
    "        print(target1, \" has attacked\")\n",
    "        print(target.health, \" left\")\n",
    "        if target.health == 0:\n",
    "            print(target1, \" has won\")\n",
    "\n",
    "warrior1 = Warrior(100)\n",
    "warrior2 = Warrior(100)\n",
    "q = int(input(\"Enter 1 to attack. Enter 2 to stop program: \"))\n",
    "\n",
    "while q != 2:\n",
    "    if q == 1:\n",
    "        j = random.randint(1, 3)\n",
    "        if j % 2 == 0:\n",
    "            warrior1.hit(warrior2, warrior1)\n",
    "            q = int(input(\"Enter 1 to let some warrior attack\"))\n",
    "        else:\n",
    "            warrior2.hit(warrior1, warrior2)\n",
    "            q = int(input(\"Enter 1 to let some warrior attack\"))\n",
    "    else:\n",
    "        print(\"Wrong input.\")\n",
    "        break"
   ]
  },
  {
   "cell_type": "markdown",
   "id": "5827236e-c685-425f-9a79-82c781068ab2",
   "metadata": {},
   "source": [
    "<div style=\"font-size: 18px\"><b>1.2.3 Пример</b></div>\n",
    "<br><i>Создайте класс по работе с дробями. В классе должна быть реализована следующая функциональность:<br>− сложение дробей;<br>− вычитание дробей;<br>− умножение дробей;<br>− деление дробей."
   ]
  },
  {
   "cell_type": "code",
   "execution_count": 3,
   "id": "d0f1e603-04a1-41c6-9293-63d69a75049c",
   "metadata": {},
   "outputs": [
    {
     "name": "stdout",
     "output_type": "stream",
     "text": [
      "5/6\n",
      "1/6\n",
      "1/6\n",
      "1/6\n",
      "3/2\n",
      "13/2\n"
     ]
    }
   ],
   "source": [
    "class Rational:\n",
    "\n",
    "    @staticmethod\n",
    "    def gcd(a, b):\n",
    "        while b != 0:\n",
    "            (a, b) = (b, a%b)\n",
    "        return a\n",
    "        \n",
    "    @staticmethod\n",
    "    def sgn(x):\n",
    "        if x > 0:\n",
    "            return 1\n",
    "        elif x < 0:\n",
    "            return -1\n",
    "        else:\n",
    "            return 0\n",
    "\n",
    "    def __init__(self, n, d):\n",
    "        if n == 0:\n",
    "            self.num = 0\n",
    "            self.den = 1\n",
    "        else:\n",
    "            z = self.sgn(n) * self.sgn(d)\n",
    "            n = abs(n)\n",
    "            d = abs(d)\n",
    "            k = self.gcd(n, d)\n",
    "            self.num = z * n // k\n",
    "            self.den = d // k\n",
    "\n",
    "    def __str__(self):\n",
    "        if self.num == 0:\n",
    "            return \"0\"\n",
    "        else:\n",
    "            return str(self.num) + \"/\" + str(self.den)\n",
    "\n",
    "    def __add__(self, o):\n",
    "        n1 = self.num\n",
    "        d1 = self.den\n",
    "        if type(o) == int:\n",
    "            n2 = o\n",
    "            d2 = 1\n",
    "        else:\n",
    "            n2 = o.num\n",
    "            d2 = o.den\n",
    "        n = n1*d2 + n2*d1\n",
    "        d = d1*d2\n",
    "        return Rational(n, d)\n",
    "\n",
    "    def __radd__(self, o):\n",
    "        n1 = self.num\n",
    "        d1 = self.den\n",
    "        if type(o) == int:\n",
    "            n2 = o\n",
    "            d2 = 1\n",
    "        else:\n",
    "            n2 = o.num\n",
    "            d2 = o.den\n",
    "        n = n1*d2 + n2*d1\n",
    "        d = d1*d2\n",
    "        return Rational(n, d)\n",
    "\n",
    "    def __sub__(self, o):\n",
    "        n1 = self.num\n",
    "        d1 = self.den\n",
    "        n2 = o.num\n",
    "        d2 = o.den\n",
    "        n = n1*d2-n2*d1\n",
    "        d = d1*d2\n",
    "        return Rational(n, d)\n",
    "\n",
    "    def __mul__(self, o):\n",
    "        n1 = self.num\n",
    "        d1 = self.den\n",
    "        n2 = o.num\n",
    "        d2 = o.den\n",
    "        n = n1*n2\n",
    "        d = d1*d2\n",
    "        return Rational(n, d)\n",
    "\n",
    "    def __floordiv__(self, o):\n",
    "        n1 = self.num\n",
    "        d1 = self.den\n",
    "        n2 = o.num\n",
    "        d2 = o.den\n",
    "        n = n1*d2\n",
    "        d = d1*n2\n",
    "        return Rational(n, d)\n",
    "\n",
    "d1 = Rational(1, 2)\n",
    "d2 = Rational(1, 3)\n",
    "d3 = d1 + d2\n",
    "print(d3)\n",
    "d4 = d1 - d2\n",
    "print(d4)\n",
    "d5 = d1*d2\n",
    "print(d5)\n",
    "d6 = d1*d2\n",
    "print(d6)\n",
    "d7 = d1//d2\n",
    "print(d7)\n",
    "d8 = 6 + d1\n",
    "print(d8)"
   ]
  },
  {
   "cell_type": "markdown",
   "id": "abcf9d2f-d1ca-46a8-9821-12a74ab7a19e",
   "metadata": {},
   "source": [
    "<div style=\"font-size: 18px\"><b>Задание</b></div>\n",
    "<br><i>Создайте класс по работе с тригонометрическими функциями. В классе должны быть реализованы функции вычисления:\n",
    "<br>− косинуса;\n",
    "<br>− синуса;\n",
    "<br>− тангенса;\n",
    "<br>− арксинуса;\n",
    "<br>− арккосинуса;\n",
    "<br>− арктангенса;\n",
    "<br>− перевода из градусов в радианы."
   ]
  },
  {
   "cell_type": "code",
   "execution_count": 4,
   "id": "5257ba8e-8cbc-41bb-823a-9f4a3c732549",
   "metadata": {},
   "outputs": [
    {
     "name": "stdout",
     "output_type": "stream",
     "text": [
      "0.8660254037844387\n",
      "0.49999999999999994\n",
      "0.5773502691896257\n",
      "90.0\n",
      "0.0\n",
      "45.0\n",
      "0.5235987755982988\n",
      "57.29577951308232\n"
     ]
    }
   ],
   "source": [
    "import math\n",
    "\n",
    "class Trigonometry:\n",
    "    @staticmethod\n",
    "    def cos(degrees):\n",
    "        return math.cos(math.radians(degrees))\n",
    "    @staticmethod\n",
    "    def sin(degrees):\n",
    "        return math.sin(math.radians(degrees))\n",
    "    @staticmethod\n",
    "    def tan(degrees):\n",
    "        return math.tan(math.radians(degrees))\n",
    "    @staticmethod\n",
    "    def asin(num):\n",
    "        return math.degrees(math.asin(num))\n",
    "    @staticmethod\n",
    "    def acos(num):\n",
    "        return math.degrees(math.acos(num))\n",
    "    @staticmethod\n",
    "    def atan(num):\n",
    "        return math.degrees(math.atan(num))\n",
    "    @staticmethod\n",
    "    def degrees_to_rad(degrees):\n",
    "        return math.radians(degrees)\n",
    "    @staticmethod\n",
    "    def rad_to_degrees(radians):\n",
    "        return math.degrees(radians)\n",
    "\n",
    "degrees = 30\n",
    "num = 1\n",
    "\n",
    "trig = Trigonometry()\n",
    "print(trig.cos(degrees))\n",
    "print(trig.sin(degrees))\n",
    "print(trig.tan(degrees))\n",
    "print(trig.asin(num))\n",
    "print(trig.acos(num))\n",
    "print(trig.atan(num))\n",
    "print(trig.degrees_to_rad(degrees))\n",
    "print(trig.rad_to_degrees(num))"
   ]
  },
  {
   "cell_type": "markdown",
   "id": "9300bf35-8111-4ea8-8be0-40b7767c8ceb",
   "metadata": {},
   "source": [
    "<div style=\"font-size: 18px\"><b>1.2.1 Пример</b></div>\n",
    "<br><i>Определите класс бинарного дерева и задайте его объекты с отдельным \n",
    "атрибутом для каждого из потомков"
   ]
  },
  {
   "cell_type": "code",
   "execution_count": 5,
   "id": "c92f7710-0ee1-44c9-9aa8-1dfde21875bb",
   "metadata": {},
   "outputs": [
    {
     "data": {
      "text/plain": [
       "'c'"
      ]
     },
     "execution_count": 5,
     "metadata": {},
     "output_type": "execute_result"
    }
   ],
   "source": [
    "class Tree:\n",
    "    def __init__(self, left, right):\n",
    "        self.left = left\n",
    "        self.right = right\n",
    "t = Tree(Tree(\"a\", \"b\"), Tree(\"c\", \"d\"))\n",
    "t.right.left"
   ]
  },
  {
   "cell_type": "markdown",
   "id": "986a0755-a3aa-4421-8f14-2a32e0ccf58f",
   "metadata": {},
   "source": [
    "<div style=\"font-size: 18px\"><b>1.2.2 Пример</b></div>\n",
    "<i><p><br>Для обозначения отсутствующих потомков можно использовать None (в случае если у узла только один потомок). Само собой, можно комбинировать разные методы (например, использовать списки или множества потомков для каждого узла).</p><p>Распространенный способ реализации деревьев, особенно на языках, не имеющих встроенной поддержки списков, это так называемое представление «первый потомок, следующий брат». В нем каждый узел имеет два «указателя» или атрибута, указывающих на другие узлы, как в бинарном дереве. Однако, первый из этих атрибутов ссылается на первого потомка узла, а второй — на его следующего брата (т.е. узел, имеющий того же родителя, но находящийся правее, — прим. перев). Иными словами, каждый узел дерева имеет указатель на связанный список его потомков, а каждый из этих потомков ссылается на свой собственный аналогичный список. Таким образом, небольшая модификация бинарного дерева даст нам многопутевое дерево, показанное в листинге ниже.</p></i>"
   ]
  },
  {
   "cell_type": "code",
   "execution_count": 6,
   "id": "d8780329-87c1-4316-ac6e-a117ac3e5836",
   "metadata": {},
   "outputs": [
    {
     "data": {
      "text/plain": [
       "'c'"
      ]
     },
     "execution_count": 6,
     "metadata": {},
     "output_type": "execute_result"
    }
   ],
   "source": [
    "class Tree:\n",
    "    def __init__(self, kids, next=None):\n",
    "        self.kids = self.val = kids\n",
    "        self.next = next\n",
    "\n",
    "t = Tree(Tree(\"a\", Tree(\"b\", Tree(\"c\", Tree(\"d\")))))\n",
    "t.kids.next.next.val"
   ]
  },
  {
   "cell_type": "markdown",
   "id": "07f9d476-4b33-4d8f-bdc8-861a8f2fb5e3",
   "metadata": {},
   "source": [
    "<div style=\"font-size: 18px\"><b>Задание</b></div>\n",
    "<br><i>Представьте дерево показанное на рисунке с использованием списка из списков. Выведите на печать корень дерева, а также его левое и правое поддеревья.</i>\n",
    "\r",
    "<img src=\"1.jpg\" alt=\"Alternative text\" width=\"300\"/> "
   ]
  },
  {
   "cell_type": "code",
   "execution_count": 7,
   "id": "0aa33c77-2210-4ce1-9d8f-c5d0285c98b5",
   "metadata": {},
   "outputs": [
    {
     "name": "stdout",
     "output_type": "stream",
     "text": [
      "['a', ['b', ['d', 'e']], ['c', ['f']]]\n",
      "left subtree =  ['b', ['d', 'e']]\n",
      "root =  a\n",
      "right subtree =  ['c', ['f']]\n"
     ]
    }
   ],
   "source": [
    "tree = [\"a\",\n",
    "        [\"b\", [\"d\", \"e\"]],\n",
    "        [\"c\", [\"f\"]]]\n",
    "print(tree)\n",
    "print('left subtree = ', tree[1])\n",
    "print('root = ', tree[0])\n",
    "print('right subtree = ', tree[2])"
   ]
  },
  {
   "cell_type": "markdown",
   "id": "76463c8f-bf94-46e9-8a2d-8722e6cc730f",
   "metadata": {},
   "source": [
    "<div style=\"font-size: 18px\"><b>Задание</b></div>\n",
    "<br><i>Дан класс, описывающий бинарное дерево.</i>\n",
    "<code><b>\n",
    "class Tree:\n",
    "def __init__(self, data):\n",
    "self.left = None\n",
    "self.right = None\n",
    "self.data = data\n",
    "def PrintTree(self):\n",
    "print(self.data)</b></code>\n",
    "<br><i>Реализуйте в классе функцию для вставки нового элемента в дерево по\n",
    "следующим правилам:\n",
    "<br>• Левое поддерево узла содержит только узлы со значениями меньше,\n",
    "чем значение в узле.\n",
    "<br>• Правое поддерево узла содержит только узлы со значениями меньше,\n",
    "чем значение в узле.\n",
    "<br>• Каждое из левого и правого поддеревьев также должно быть\n",
    "бинарным деревом поиска.\n",
    "<br>• Не должно быть повторяющихся узлов.\n",
    "<br>Метод вставки сравнивает значение узла с родительским узлом и решает куда добавить элемент (в левое или правое поддерево). Перепишите метод PrintTree для печати полной версии дерева.</i>"
   ]
  },
  {
   "cell_type": "code",
   "execution_count": 8,
   "id": "139ed0a8-1ea5-47a2-a109-e11072d827dc",
   "metadata": {},
   "outputs": [
    {
     "name": "stdout",
     "output_type": "stream",
     "text": [
      "2\n",
      "3\n",
      "5\n",
      "7\n",
      "11\n"
     ]
    }
   ],
   "source": [
    "class Tree:\n",
    "    def __init__(self, data):\n",
    "        self.left = None\n",
    "        self.right = None\n",
    "        self.data = data\n",
    "    \n",
    "\n",
    "    def insert(self, value):\n",
    "        if value < self.data:\n",
    "            if self.left is None:\n",
    "                self.left = Tree(value)\n",
    "            else:\n",
    "                self.left.insert(value)\n",
    "        elif value > self.data:\n",
    "            if self.right is None:\n",
    "                self.right = Tree(value)\n",
    "            else:\n",
    "                self.right.insert(value)\n",
    "    \n",
    "    def print_tree(self):\n",
    "        if self.left:\n",
    "            self.left.print_tree()\n",
    "        print(self.data)\n",
    "        if self.right:\n",
    "            self.right.print_tree()\n",
    "\n",
    "\n",
    "tree = Tree(5)\n",
    "tree.insert(3)\n",
    "tree.insert(7)\n",
    "tree.insert(11)\n",
    "tree.insert(2)\n",
    "\n",
    "tree.print_tree()"
   ]
  },
  {
   "cell_type": "markdown",
   "id": "56cdaf52-2216-4062-9877-c0570f75ee4b",
   "metadata": {},
   "source": [
    "<div style=\"font-size: 18px\"><b>1.3.1 Пример</b></div>\n",
    "<br><i>Построим дерево решений для задачи классификации, для этого, построим границу решения для каждого класса. В качестве данных будем использовать уже знакомый нам и встроенный в библиотеку sklearn набор данных ирисов Фишера. Импортируем библиотеки, набор данных и посмотрим его характеристики.</i>"
   ]
  },
  {
   "cell_type": "code",
   "execution_count": 9,
   "id": "760ca29f-6354-4c3d-bdef-fa9640881306",
   "metadata": {},
   "outputs": [
    {
     "data": {
      "text/html": [
       "<div>\n",
       "<style scoped>\n",
       "    .dataframe tbody tr th:only-of-type {\n",
       "        vertical-align: middle;\n",
       "    }\n",
       "\n",
       "    .dataframe tbody tr th {\n",
       "        vertical-align: top;\n",
       "    }\n",
       "\n",
       "    .dataframe thead th {\n",
       "        text-align: right;\n",
       "    }\n",
       "</style>\n",
       "<table border=\"1\" class=\"dataframe\">\n",
       "  <thead>\n",
       "    <tr style=\"text-align: right;\">\n",
       "      <th></th>\n",
       "      <th>sepal_length</th>\n",
       "      <th>sepal_width</th>\n",
       "      <th>petal_length</th>\n",
       "      <th>petal_width</th>\n",
       "      <th>species</th>\n",
       "    </tr>\n",
       "  </thead>\n",
       "  <tbody>\n",
       "    <tr>\n",
       "      <th>0</th>\n",
       "      <td>5.1</td>\n",
       "      <td>3.5</td>\n",
       "      <td>1.4</td>\n",
       "      <td>0.2</td>\n",
       "      <td>setosa</td>\n",
       "    </tr>\n",
       "    <tr>\n",
       "      <th>1</th>\n",
       "      <td>4.9</td>\n",
       "      <td>3.0</td>\n",
       "      <td>1.4</td>\n",
       "      <td>0.2</td>\n",
       "      <td>setosa</td>\n",
       "    </tr>\n",
       "    <tr>\n",
       "      <th>2</th>\n",
       "      <td>4.7</td>\n",
       "      <td>3.2</td>\n",
       "      <td>1.3</td>\n",
       "      <td>0.2</td>\n",
       "      <td>setosa</td>\n",
       "    </tr>\n",
       "    <tr>\n",
       "      <th>3</th>\n",
       "      <td>4.6</td>\n",
       "      <td>3.1</td>\n",
       "      <td>1.5</td>\n",
       "      <td>0.2</td>\n",
       "      <td>setosa</td>\n",
       "    </tr>\n",
       "    <tr>\n",
       "      <th>4</th>\n",
       "      <td>5.0</td>\n",
       "      <td>3.6</td>\n",
       "      <td>1.4</td>\n",
       "      <td>0.2</td>\n",
       "      <td>setosa</td>\n",
       "    </tr>\n",
       "  </tbody>\n",
       "</table>\n",
       "</div>"
      ],
      "text/plain": [
       "   sepal_length  sepal_width  petal_length  petal_width species\n",
       "0           5.1          3.5           1.4          0.2  setosa\n",
       "1           4.9          3.0           1.4          0.2  setosa\n",
       "2           4.7          3.2           1.3          0.2  setosa\n",
       "3           4.6          3.1           1.5          0.2  setosa\n",
       "4           5.0          3.6           1.4          0.2  setosa"
      ]
     },
     "execution_count": 9,
     "metadata": {},
     "output_type": "execute_result"
    }
   ],
   "source": [
    "import pandas as pd\n",
    "import numpy as np\n",
    "import seaborn as sns\n",
    "import matplotlib.pyplot as plt\n",
    "\n",
    "dataset = sns.load_dataset('iris')\n",
    "dataset\n",
    "dataset.shape\n",
    "dataset.head()"
   ]
  },
  {
   "cell_type": "code",
   "execution_count": 10,
   "id": "9e34c5eb-84ea-41f9-ad21-323cab4d0d72",
   "metadata": {},
   "outputs": [
    {
     "data": {
      "text/plain": [
       "111     virginica\n",
       "145     virginica\n",
       "116     virginica\n",
       "67     versicolor\n",
       "73     versicolor\n",
       "Name: species, dtype: object"
      ]
     },
     "execution_count": 10,
     "metadata": {},
     "output_type": "execute_result"
    }
   ],
   "source": [
    "from sklearn.model_selection import train_test_split\n",
    "\n",
    "X_train, X_test, y_train, y_test = train_test_split(\n",
    "    dataset.iloc[:, :-1],\n",
    "    dataset.iloc[:, -1],\n",
    "    test_size = 0.20\n",
    ")\n",
    "\n",
    "X_train.shape, X_test.shape, y_train.shape, y_test.shape\n",
    "X_train.head()\n",
    "y_train.head()"
   ]
  },
  {
   "cell_type": "code",
   "execution_count": 11,
   "id": "f8f0c4e4-9ca7-44ca-b1bd-22f12de44fc5",
   "metadata": {},
   "outputs": [
    {
     "data": {
      "text/plain": [
       "[Text(0.4, 0.9166666666666666, 'x[2] <= 2.45\\ngini = 0.666\\nsamples = 120\\nvalue = [40, 42, 38]'),\n",
       " Text(0.3, 0.75, 'gini = 0.0\\nsamples = 40\\nvalue = [40, 0, 0]'),\n",
       " Text(0.5, 0.75, 'x[2] <= 4.85\\ngini = 0.499\\nsamples = 80\\nvalue = [0, 42, 38]'),\n",
       " Text(0.2, 0.5833333333333334, 'x[3] <= 1.65\\ngini = 0.05\\nsamples = 39\\nvalue = [0, 38, 1]'),\n",
       " Text(0.1, 0.4166666666666667, 'gini = 0.0\\nsamples = 37\\nvalue = [0, 37, 0]'),\n",
       " Text(0.3, 0.4166666666666667, 'x[3] <= 1.75\\ngini = 0.5\\nsamples = 2\\nvalue = [0, 1, 1]'),\n",
       " Text(0.2, 0.25, 'gini = 0.0\\nsamples = 1\\nvalue = [0, 0, 1]'),\n",
       " Text(0.4, 0.25, 'gini = 0.0\\nsamples = 1\\nvalue = [0, 1, 0]'),\n",
       " Text(0.8, 0.5833333333333334, 'x[3] <= 1.75\\ngini = 0.176\\nsamples = 41\\nvalue = [0, 4, 37]'),\n",
       " Text(0.7, 0.4166666666666667, 'x[2] <= 5.35\\ngini = 0.49\\nsamples = 7\\nvalue = [0, 4, 3]'),\n",
       " Text(0.6, 0.25, 'x[1] <= 2.35\\ngini = 0.32\\nsamples = 5\\nvalue = [0, 4, 1]'),\n",
       " Text(0.5, 0.08333333333333333, 'gini = 0.0\\nsamples = 1\\nvalue = [0, 0, 1]'),\n",
       " Text(0.7, 0.08333333333333333, 'gini = 0.0\\nsamples = 4\\nvalue = [0, 4, 0]'),\n",
       " Text(0.8, 0.25, 'gini = 0.0\\nsamples = 2\\nvalue = [0, 0, 2]'),\n",
       " Text(0.9, 0.4166666666666667, 'gini = 0.0\\nsamples = 34\\nvalue = [0, 0, 34]')]"
      ]
     },
     "execution_count": 11,
     "metadata": {},
     "output_type": "execute_result"
    },
    {
     "data": {
      "image/png": "[encoded data removed]",
      "text/plain": [
       "<Figure size 640x480 with 1 Axes>"
      ]
     },
     "metadata": {},
     "output_type": "display_data"
    }
   ],
   "source": [
    "from sklearn.tree import DecisionTreeClassifier\n",
    "classifier = DecisionTreeClassifier()\n",
    "classifier.fit(X_train, y_train)\n",
    "\n",
    "from sklearn import tree\n",
    "tree.plot_tree(classifier)"
   ]
  },
  {
   "cell_type": "code",
   "execution_count": 12,
   "id": "80b9e4ad-29e3-432a-95fc-15a6e8792046",
   "metadata": {},
   "outputs": [
    {
     "data": {
      "text/plain": [
       "array(['virginica', 'versicolor', 'setosa', 'versicolor', 'versicolor',\n",
       "       'virginica', 'versicolor', 'versicolor', 'versicolor', 'setosa',\n",
       "       'virginica', 'virginica', 'versicolor', 'virginica', 'virginica',\n",
       "       'setosa', 'setosa', 'setosa', 'setosa', 'setosa', 'virginica',\n",
       "       'virginica', 'virginica', 'versicolor', 'versicolor', 'setosa',\n",
       "       'setosa', 'setosa', 'versicolor', 'versicolor'], dtype=object)"
      ]
     },
     "execution_count": 12,
     "metadata": {},
     "output_type": "execute_result"
    }
   ],
   "source": [
    "y_pred = classifier.predict(X_test)\n",
    "y_pred"
   ]
  },
  {
   "cell_type": "code",
   "execution_count": 13,
   "id": "746c69f5-c099-4b9c-9f34-267e48a2e47e",
   "metadata": {},
   "outputs": [
    {
     "name": "stdout",
     "output_type": "stream",
     "text": [
      "[[10  0  0]\n",
      " [ 0  8  0]\n",
      " [ 0  3  9]]\n",
      "              precision    recall  f1-score   support\n",
      "\n",
      "      setosa       1.00      1.00      1.00        10\n",
      "  versicolor       0.73      1.00      0.84         8\n",
      "   virginica       1.00      0.75      0.86        12\n",
      "\n",
      "    accuracy                           0.90        30\n",
      "   macro avg       0.91      0.92      0.90        30\n",
      "weighted avg       0.93      0.90      0.90        30\n",
      "\n"
     ]
    }
   ],
   "source": [
    "from sklearn.metrics import classification_report, confusion_matrix\n",
    "print(confusion_matrix(y_test, y_pred))\n",
    "print(classification_report(y_test, y_pred))"
   ]
  },
  {
   "cell_type": "markdown",
   "id": "88710ca1-75bc-4fa5-b57b-5d912c52ff95",
   "metadata": {},
   "source": [
    "<div style=\"font-size: 18px\"><b>Задание</b></div>\n",
    "<br><i>Постройте классификатор на основе дерева принятия решений следующего датасета</i>\n",
    "<code><b>\n",
    "X = np.array([-1, -1], [-2, -1], [-3, -2], [1, 1], [2, 1], [3, 2])\n",
    "target = [0, 0, 0, 1, 1, 1]\n",
    "</b></code>"
   ]
  },
  {
   "cell_type": "code",
   "execution_count": 14,
   "id": "0cf41b79-05dc-42ee-9879-9507dd11ba2a",
   "metadata": {},
   "outputs": [
    {
     "name": "stdout",
     "output_type": "stream",
     "text": [
      "[[3 0]\n",
      " [0 3]]\n",
      "              precision    recall  f1-score   support\n",
      "\n",
      "           0       1.00      1.00      1.00         3\n",
      "           1       1.00      1.00      1.00         3\n",
      "\n",
      "    accuracy                           1.00         6\n",
      "   macro avg       1.00      1.00      1.00         6\n",
      "weighted avg       1.00      1.00      1.00         6\n",
      "\n"
     ]
    },
    {
     "data": {
      "image/png": "[encoded data removed]",
      "text/plain": [
       "<Figure size 640x480 with 1 Axes>"
      ]
     },
     "metadata": {},
     "output_type": "display_data"
    }
   ],
   "source": [
    "from sklearn import tree\n",
    "from sklearn.tree import DecisionTreeClassifier\n",
    "from sklearn.metrics import classification_report, confusion_matrix\n",
    "\n",
    "X_test = np.array([[-1, -1], [-2, -1], [-3, -2], [1, 1], [2, 1], [3, 2]])\n",
    "y_train = [0, 0, 0, 1, 1, 1]\n",
    "\n",
    "X_test.shape\n",
    "\n",
    "classifier = DecisionTreeClassifier()\n",
    "classifier.fit(X_test,y_train)\n",
    "\n",
    "tree.plot_tree(classifier)\n",
    "\n",
    "y_pred = classifier.predict(X_test)\n",
    "y_pred\n",
    "\n",
    "print(confusion_matrix(y_pred,y_train))\n",
    "print(classification_report(y_pred,y_train))"
   ]
  },
  {
   "cell_type": "markdown",
   "id": "6081b27c-8c1f-4b9f-84b4-ab6bb51c81e0",
   "metadata": {},
   "source": [
    "<div style=\"font-size: 18px\"><b>1.4.1 Пример</b></div>\n",
    "<br><i>Постойте регрессию с использованием дерева решений, реализованного в Python.</i>"
   ]
  },
  {
   "cell_type": "code",
   "execution_count": 15,
   "id": "8de7a00f-f452-48a5-8aba-defef0758e68",
   "metadata": {},
   "outputs": [
    {
     "data": {
      "text/html": [
       "<div>\n",
       "<style scoped>\n",
       "    .dataframe tbody tr th:only-of-type {\n",
       "        vertical-align: middle;\n",
       "    }\n",
       "\n",
       "    .dataframe tbody tr th {\n",
       "        vertical-align: top;\n",
       "    }\n",
       "\n",
       "    .dataframe thead th {\n",
       "        text-align: right;\n",
       "    }\n",
       "</style>\n",
       "<table border=\"1\" class=\"dataframe\">\n",
       "  <thead>\n",
       "    <tr style=\"text-align: right;\">\n",
       "      <th></th>\n",
       "      <th>YearsExperience</th>\n",
       "      <th>Salary</th>\n",
       "    </tr>\n",
       "  </thead>\n",
       "  <tbody>\n",
       "    <tr>\n",
       "      <th>0</th>\n",
       "      <td>1.1</td>\n",
       "      <td>39343.0</td>\n",
       "    </tr>\n",
       "    <tr>\n",
       "      <th>1</th>\n",
       "      <td>1.3</td>\n",
       "      <td>46205.0</td>\n",
       "    </tr>\n",
       "    <tr>\n",
       "      <th>2</th>\n",
       "      <td>1.5</td>\n",
       "      <td>37731.0</td>\n",
       "    </tr>\n",
       "    <tr>\n",
       "      <th>3</th>\n",
       "      <td>2.0</td>\n",
       "      <td>43525.0</td>\n",
       "    </tr>\n",
       "    <tr>\n",
       "      <th>4</th>\n",
       "      <td>2.2</td>\n",
       "      <td>39891.0</td>\n",
       "    </tr>\n",
       "  </tbody>\n",
       "</table>\n",
       "</div>"
      ],
      "text/plain": [
       "   YearsExperience   Salary\n",
       "0              1.1  39343.0\n",
       "1              1.3  46205.0\n",
       "2              1.5  37731.0\n",
       "3              2.0  43525.0\n",
       "4              2.2  39891.0"
      ]
     },
     "execution_count": 15,
     "metadata": {},
     "output_type": "execute_result"
    }
   ],
   "source": [
    "import pandas as pd\n",
    "import numpy as np\n",
    "import matplotlib.pyplot as plt\n",
    "\n",
    "url = r'https://raw.githubusercontent.com/AnnaShestova/salary-years-simple-linear-regression/master/Salary_Data.csv'\n",
    "dataset = pd.read_csv(url)\n",
    "dataset.head()"
   ]
  },
  {
   "cell_type": "code",
   "execution_count": 16,
   "id": "65bbbfd1-d942-47da-ae82-e03a3d6b9a6e",
   "metadata": {},
   "outputs": [
    {
     "name": "stdout",
     "output_type": "stream",
     "text": [
      "(30, 2)\n"
     ]
    },
    {
     "data": {
      "text/html": [
       "<div>\n",
       "<style scoped>\n",
       "    .dataframe tbody tr th:only-of-type {\n",
       "        vertical-align: middle;\n",
       "    }\n",
       "\n",
       "    .dataframe tbody tr th {\n",
       "        vertical-align: top;\n",
       "    }\n",
       "\n",
       "    .dataframe thead th {\n",
       "        text-align: right;\n",
       "    }\n",
       "</style>\n",
       "<table border=\"1\" class=\"dataframe\">\n",
       "  <thead>\n",
       "    <tr style=\"text-align: right;\">\n",
       "      <th></th>\n",
       "      <th>YearsExperience</th>\n",
       "      <th>Salary</th>\n",
       "    </tr>\n",
       "  </thead>\n",
       "  <tbody>\n",
       "    <tr>\n",
       "      <th>count</th>\n",
       "      <td>30.000000</td>\n",
       "      <td>30.000000</td>\n",
       "    </tr>\n",
       "    <tr>\n",
       "      <th>mean</th>\n",
       "      <td>5.313333</td>\n",
       "      <td>76003.000000</td>\n",
       "    </tr>\n",
       "    <tr>\n",
       "      <th>std</th>\n",
       "      <td>2.837888</td>\n",
       "      <td>27414.429785</td>\n",
       "    </tr>\n",
       "    <tr>\n",
       "      <th>min</th>\n",
       "      <td>1.100000</td>\n",
       "      <td>37731.000000</td>\n",
       "    </tr>\n",
       "    <tr>\n",
       "      <th>25%</th>\n",
       "      <td>3.200000</td>\n",
       "      <td>56720.750000</td>\n",
       "    </tr>\n",
       "    <tr>\n",
       "      <th>50%</th>\n",
       "      <td>4.700000</td>\n",
       "      <td>65237.000000</td>\n",
       "    </tr>\n",
       "    <tr>\n",
       "      <th>75%</th>\n",
       "      <td>7.700000</td>\n",
       "      <td>100544.750000</td>\n",
       "    </tr>\n",
       "    <tr>\n",
       "      <th>max</th>\n",
       "      <td>10.500000</td>\n",
       "      <td>122391.000000</td>\n",
       "    </tr>\n",
       "  </tbody>\n",
       "</table>\n",
       "</div>"
      ],
      "text/plain": [
       "       YearsExperience         Salary\n",
       "count        30.000000      30.000000\n",
       "mean          5.313333   76003.000000\n",
       "std           2.837888   27414.429785\n",
       "min           1.100000   37731.000000\n",
       "25%           3.200000   56720.750000\n",
       "50%           4.700000   65237.000000\n",
       "75%           7.700000  100544.750000\n",
       "max          10.500000  122391.000000"
      ]
     },
     "execution_count": 16,
     "metadata": {},
     "output_type": "execute_result"
    }
   ],
   "source": [
    "print(dataset.shape)\n",
    "dataset.describe()"
   ]
  },
  {
   "cell_type": "code",
   "execution_count": 17,
   "id": "a86791eb-3b4e-4bd2-b810-6e3115bd838f",
   "metadata": {},
   "outputs": [
    {
     "data": {
      "image/png": "[encoded data removed]",
      "text/plain": [
       "<Figure size 640x480 with 1 Axes>"
      ]
     },
     "metadata": {},
     "output_type": "display_data"
    }
   ],
   "source": [
    "plt.scatter(dataset['YearsExperience'], dataset['Salary'], color = 'b', label = \"Заработная плата\")\n",
    "plt.xlabel(\"Oпыт(лет)\")\n",
    "plt.ylabel(\"Заработная плата\")\n",
    "plt.show()"
   ]
  },
  {
   "cell_type": "code",
   "execution_count": 18,
   "id": "d980b380-0d33-4096-8660-13c029fcfb13",
   "metadata": {},
   "outputs": [
    {
     "name": "stdout",
     "output_type": "stream",
     "text": [
      "[[ 1.1]\n",
      " [ 1.3]\n",
      " [ 1.5]\n",
      " [ 2. ]\n",
      " [ 2.2]\n",
      " [ 2.9]\n",
      " [ 3. ]\n",
      " [ 3.2]\n",
      " [ 3.2]\n",
      " [ 3.7]\n",
      " [ 3.9]\n",
      " [ 4. ]\n",
      " [ 4. ]\n",
      " [ 4.1]\n",
      " [ 4.5]\n",
      " [ 4.9]\n",
      " [ 5.1]\n",
      " [ 5.3]\n",
      " [ 5.9]\n",
      " [ 6. ]\n",
      " [ 6.8]\n",
      " [ 7.1]\n",
      " [ 7.9]\n",
      " [ 8.2]\n",
      " [ 8.7]\n",
      " [ 9. ]\n",
      " [ 9.5]\n",
      " [ 9.6]\n",
      " [10.3]\n",
      " [10.5]]\n",
      "[ 39343.  46205.  37731.  43525.  39891.  56642.  60150.  54445.  64445.\n",
      "  57189.  63218.  55794.  56957.  57081.  61111.  67938.  66029.  83088.\n",
      "  81363.  93940.  91738.  98273. 101302. 113812. 109431. 105582. 116969.\n",
      " 112635. 122391. 121872.]\n"
     ]
    }
   ],
   "source": [
    "from sklearn.tree import DecisionTreeRegressor\n",
    "X = dataset.iloc[:, :-1].values\n",
    "y = dataset.iloc[:, 1].values\n",
    "print(X)\n",
    "print(y)"
   ]
  },
  {
   "cell_type": "code",
   "execution_count": 19,
   "id": "5afc415e-c974-4e06-bb67-820480c1103a",
   "metadata": {},
   "outputs": [
    {
     "data": {
      "text/html": [
       "<style>#sk-container-id-1 {color: black;}#sk-container-id-1 pre{padding: 0;}#sk-container-id-1 div.sk-toggleable {background-color: white;}#sk-container-id-1 label.sk-toggleable__label {cursor: pointer;display: block;width: 100%;margin-bottom: 0;padding: 0.3em;box-sizing: border-box;text-align: center;}#sk-container-id-1 label.sk-toggleable__label-arrow:before {content: \"▸\";float: left;margin-right: 0.25em;color: #696969;}#sk-container-id-1 label.sk-toggleable__label-arrow:hover:before {color: black;}#sk-container-id-1 div.sk-estimator:hover label.sk-toggleable__label-arrow:before {color: black;}#sk-container-id-1 div.sk-toggleable__content {max-height: 0;max-width: 0;overflow: hidden;text-align: left;background-color: #f0f8ff;}#sk-container-id-1 div.sk-toggleable__content pre {margin: 0.2em;color: black;border-radius: 0.25em;background-color: #f0f8ff;}#sk-container-id-1 input.sk-toggleable__control:checked~div.sk-toggleable__content {max-height: 200px;max-width: 100%;overflow: auto;}#sk-container-id-1 input.sk-toggleable__control:checked~label.sk-toggleable__label-arrow:before {content: \"▾\";}#sk-container-id-1 div.sk-estimator input.sk-toggleable__control:checked~label.sk-toggleable__label {background-color: #d4ebff;}#sk-container-id-1 div.sk-label input.sk-toggleable__control:checked~label.sk-toggleable__label {background-color: #d4ebff;}#sk-container-id-1 input.sk-hidden--visually {border: 0;clip: rect(1px 1px 1px 1px);clip: rect(1px, 1px, 1px, 1px);height: 1px;margin: -1px;overflow: hidden;padding: 0;position: absolute;width: 1px;}#sk-container-id-1 div.sk-estimator {font-family: monospace;background-color: #f0f8ff;border: 1px dotted black;border-radius: 0.25em;box-sizing: border-box;margin-bottom: 0.5em;}#sk-container-id-1 div.sk-estimator:hover {background-color: #d4ebff;}#sk-container-id-1 div.sk-parallel-item::after {content: \"\";width: 100%;border-bottom: 1px solid gray;flex-grow: 1;}#sk-container-id-1 div.sk-label:hover label.sk-toggleable__label {background-color: #d4ebff;}#sk-container-id-1 div.sk-serial::before {content: \"\";position: absolute;border-left: 1px solid gray;box-sizing: border-box;top: 0;bottom: 0;left: 50%;z-index: 0;}#sk-container-id-1 div.sk-serial {display: flex;flex-direction: column;align-items: center;background-color: white;padding-right: 0.2em;padding-left: 0.2em;position: relative;}#sk-container-id-1 div.sk-item {position: relative;z-index: 1;}#sk-container-id-1 div.sk-parallel {display: flex;align-items: stretch;justify-content: center;background-color: white;position: relative;}#sk-container-id-1 div.sk-item::before, #sk-container-id-1 div.sk-parallel-item::before {content: \"\";position: absolute;border-left: 1px solid gray;box-sizing: border-box;top: 0;bottom: 0;left: 50%;z-index: -1;}#sk-container-id-1 div.sk-parallel-item {display: flex;flex-direction: column;z-index: 1;position: relative;background-color: white;}#sk-container-id-1 div.sk-parallel-item:first-child::after {align-self: flex-end;width: 50%;}#sk-container-id-1 div.sk-parallel-item:last-child::after {align-self: flex-start;width: 50%;}#sk-container-id-1 div.sk-parallel-item:only-child::after {width: 0;}#sk-container-id-1 div.sk-dashed-wrapped {border: 1px dashed gray;margin: 0 0.4em 0.5em 0.4em;box-sizing: border-box;padding-bottom: 0.4em;background-color: white;}#sk-container-id-1 div.sk-label label {font-family: monospace;font-weight: bold;display: inline-block;line-height: 1.2em;}#sk-container-id-1 div.sk-label-container {text-align: center;}#sk-container-id-1 div.sk-container {/* jupyter's `normalize.less` sets `[hidden] { display: none; }` but bootstrap.min.css set `[hidden] { display: none !important; }` so we also need the `!important` here to be able to override the default hidden behavior on the sphinx rendered scikit-learn.org. See: https://github.com/scikit-learn/scikit-learn/issues/21755 */display: inline-block !important;position: relative;}#sk-container-id-1 div.sk-text-repr-fallback {display: none;}</style><div id=\"sk-container-id-1\" class=\"sk-top-container\"><div class=\"sk-text-repr-fallback\"><pre>DecisionTreeRegressor()</pre><b>In a Jupyter environment, please rerun this cell to show the HTML representation or trust the notebook. <br />On GitHub, the HTML representation is unable to render, please try loading this page with nbviewer.org.</b></div><div class=\"sk-container\" hidden><div class=\"sk-item\"><div class=\"sk-estimator sk-toggleable\"><input class=\"sk-toggleable__control sk-hidden--visually\" id=\"sk-estimator-id-1\" type=\"checkbox\" checked><label for=\"sk-estimator-id-1\" class=\"sk-toggleable__label sk-toggleable__label-arrow\">DecisionTreeRegressor</label><div class=\"sk-toggleable__content\"><pre>DecisionTreeRegressor()</pre></div></div></div></div></div>"
      ],
      "text/plain": [
       "DecisionTreeRegressor()"
      ]
     },
     "execution_count": 19,
     "metadata": {},
     "output_type": "execute_result"
    }
   ],
   "source": [
    "X_train, X_test, y_train, y_test = train_test_split(X, y, test_size = 0.2, random_state = 0)\n",
    "\n",
    "regressor = DecisionTreeRegressor()\n",
    "regressor.fit(X_train, y_train)"
   ]
  },
  {
   "cell_type": "code",
   "execution_count": 20,
   "id": "5c690bd8-46fa-4fe0-b903-106c8dc49b96",
   "metadata": {},
   "outputs": [
    {
     "data": {
      "text/plain": [
       "[Text(0.4956896551724138, 0.9375, 'x[0] <= 5.2\\nsquared_error = 614737637.832\\nsamples = 24\\nvalue = 73886.208'),\n",
       " Text(0.20689655172413793, 0.8125, 'x[0] <= 2.55\\nsquared_error = 81200345.857\\nsamples = 14\\nvalue = 54976.0'),\n",
       " Text(0.06896551724137931, 0.6875, 'x[0] <= 1.2\\nsquared_error = 7820714.0\\nsamples = 4\\nvalue = 42241.0'),\n",
       " Text(0.034482758620689655, 0.5625, 'squared_error = 0.0\\nsamples = 1\\nvalue = 39343.0'),\n",
       " Text(0.10344827586206896, 0.5625, 'x[0] <= 2.1\\nsquared_error = 6694994.667\\nsamples = 3\\nvalue = 43207.0'),\n",
       " Text(0.06896551724137931, 0.4375, 'x[0] <= 1.65\\nsquared_error = 1795600.0\\nsamples = 2\\nvalue = 44865.0'),\n",
       " Text(0.034482758620689655, 0.3125, 'squared_error = 0.0\\nsamples = 1\\nvalue = 46205.0'),\n",
       " Text(0.10344827586206896, 0.3125, 'squared_error = 0.0\\nsamples = 1\\nvalue = 43525.0'),\n",
       " Text(0.13793103448275862, 0.4375, 'squared_error = 0.0\\nsamples = 1\\nvalue = 39891.0'),\n",
       " Text(0.3448275862068966, 0.6875, 'x[0] <= 4.7\\nsquared_error = 19731272.6\\nsamples = 10\\nvalue = 60070.0'),\n",
       " Text(0.27586206896551724, 0.5625, 'x[0] <= 4.25\\nsquared_error = 9499922.484\\nsamples = 8\\nvalue = 58341.625'),\n",
       " Text(0.2413793103448276, 0.4375, 'x[0] <= 3.45\\nsquared_error = 9604901.143\\nsamples = 7\\nvalue = 57946.0'),\n",
       " Text(0.1724137931034483, 0.3125, 'x[0] <= 2.95\\nsquared_error = 14313358.25\\nsamples = 4\\nvalue = 58920.5'),\n",
       " Text(0.13793103448275862, 0.1875, 'squared_error = 0.0\\nsamples = 1\\nvalue = 56642.0'),\n",
       " Text(0.20689655172413793, 0.1875, 'x[0] <= 3.1\\nsquared_error = 16777116.667\\nsamples = 3\\nvalue = 59680.0'),\n",
       " Text(0.1724137931034483, 0.0625, 'squared_error = 0.0\\nsamples = 1\\nvalue = 60150.0'),\n",
       " Text(0.2413793103448276, 0.0625, 'squared_error = 25000000.0\\nsamples = 2\\nvalue = 59445.0'),\n",
       " Text(0.3103448275862069, 0.3125, 'x[0] <= 3.85\\nsquared_error = 372490.889\\nsamples = 3\\nvalue = 56646.667'),\n",
       " Text(0.27586206896551724, 0.1875, 'squared_error = 0.0\\nsamples = 1\\nvalue = 57189.0'),\n",
       " Text(0.3448275862068966, 0.1875, 'squared_error = 338142.25\\nsamples = 2\\nvalue = 56375.5'),\n",
       " Text(0.3103448275862069, 0.4375, 'squared_error = 0.0\\nsamples = 1\\nvalue = 61111.0'),\n",
       " Text(0.41379310344827586, 0.5625, 'x[0] <= 5.0\\nsquared_error = 911070.25\\nsamples = 2\\nvalue = 66983.5'),\n",
       " Text(0.3793103448275862, 0.4375, 'squared_error = 0.0\\nsamples = 1\\nvalue = 67938.0'),\n",
       " Text(0.4482758620689655, 0.4375, 'squared_error = 0.0\\nsamples = 1\\nvalue = 66029.0'),\n",
       " Text(0.7844827586206896, 0.8125, 'x[0] <= 8.05\\nsquared_error = 160167356.45\\nsamples = 10\\nvalue = 100360.5'),\n",
       " Text(0.6379310344827587, 0.6875, 'x[0] <= 5.95\\nsquared_error = 53566814.556\\nsamples = 6\\nvalue = 91617.333'),\n",
       " Text(0.5517241379310345, 0.5625, 'x[0] <= 5.6\\nsquared_error = 743906.25\\nsamples = 2\\nvalue = 82225.5'),\n",
       " Text(0.5172413793103449, 0.4375, 'squared_error = 0.0\\nsamples = 1\\nvalue = 83088.0'),\n",
       " Text(0.5862068965517241, 0.4375, 'squared_error = 0.0\\nsamples = 1\\nvalue = 81363.0'),\n",
       " Text(0.7241379310344828, 0.5625, 'x[0] <= 6.95\\nsquared_error = 13823368.688\\nsamples = 4\\nvalue = 96313.25'),\n",
       " Text(0.6551724137931034, 0.4375, 'x[0] <= 6.4\\nsquared_error = 1212201.0\\nsamples = 2\\nvalue = 92839.0'),\n",
       " Text(0.6206896551724138, 0.3125, 'squared_error = 0.0\\nsamples = 1\\nvalue = 93940.0'),\n",
       " Text(0.6896551724137931, 0.3125, 'squared_error = 0.0\\nsamples = 1\\nvalue = 91738.0'),\n",
       " Text(0.7931034482758621, 0.4375, 'x[0] <= 7.5\\nsquared_error = 2293710.25\\nsamples = 2\\nvalue = 99787.5'),\n",
       " Text(0.7586206896551724, 0.3125, 'squared_error = 0.0\\nsamples = 1\\nvalue = 98273.0'),\n",
       " Text(0.8275862068965517, 0.3125, 'squared_error = 0.0\\nsamples = 1\\nvalue = 101302.0'),\n",
       " Text(0.9310344827586207, 0.6875, 'x[0] <= 10.05\\nsquared_error = 33407056.688\\nsamples = 4\\nvalue = 113475.25'),\n",
       " Text(0.896551724137931, 0.5625, 'x[0] <= 8.6\\nsquared_error = 13207004.222\\nsamples = 3\\nvalue = 110676.333'),\n",
       " Text(0.8620689655172413, 0.4375, 'squared_error = 0.0\\nsamples = 1\\nvalue = 113812.0'),\n",
       " Text(0.9310344827586207, 0.4375, 'x[0] <= 9.3\\nsquared_error = 12436202.25\\nsamples = 2\\nvalue = 109108.5'),\n",
       " Text(0.896551724137931, 0.3125, 'squared_error = 0.0\\nsamples = 1\\nvalue = 105582.0'),\n",
       " Text(0.9655172413793104, 0.3125, 'squared_error = 0.0\\nsamples = 1\\nvalue = 112635.0'),\n",
       " Text(0.9655172413793104, 0.5625, 'squared_error = 0.0\\nsamples = 1\\nvalue = 121872.0')]"
      ]
     },
     "execution_count": 20,
     "metadata": {},
     "output_type": "execute_result"
    },
    {
     "data": {
      "image/png": "[encoded data removed]",
      "text/plain": [
       "<Figure size 640x480 with 1 Axes>"
      ]
     },
     "metadata": {},
     "output_type": "display_data"
    }
   ],
   "source": [
    "from sklearn import tree\n",
    "tree.plot_tree(regressor)"
   ]
  },
  {
   "cell_type": "code",
   "execution_count": 21,
   "id": "c5c63d21-aefe-47cd-a551-d4d3887cf311",
   "metadata": {},
   "outputs": [
    {
     "data": {
      "text/plain": [
       "array([ 46205. , 121872. ,  56375.5,  56375.5, 112635. , 105582. ])"
      ]
     },
     "execution_count": 21,
     "metadata": {},
     "output_type": "execute_result"
    }
   ],
   "source": [
    "y_pred = regressor.predict(X_test)\n",
    "y_pred"
   ]
  },
  {
   "cell_type": "code",
   "execution_count": 22,
   "id": "1182a17f-886b-4e57-94a3-5ad54bef6310",
   "metadata": {},
   "outputs": [
    {
     "data": {
      "text/html": [
       "<div>\n",
       "<style scoped>\n",
       "    .dataframe tbody tr th:only-of-type {\n",
       "        vertical-align: middle;\n",
       "    }\n",
       "\n",
       "    .dataframe tbody tr th {\n",
       "        vertical-align: top;\n",
       "    }\n",
       "\n",
       "    .dataframe thead th {\n",
       "        text-align: right;\n",
       "    }\n",
       "</style>\n",
       "<table border=\"1\" class=\"dataframe\">\n",
       "  <thead>\n",
       "    <tr style=\"text-align: right;\">\n",
       "      <th></th>\n",
       "      <th>Actual</th>\n",
       "      <th>Predicted</th>\n",
       "    </tr>\n",
       "  </thead>\n",
       "  <tbody>\n",
       "    <tr>\n",
       "      <th>0</th>\n",
       "      <td>37731.0</td>\n",
       "      <td>46205.0</td>\n",
       "    </tr>\n",
       "    <tr>\n",
       "      <th>1</th>\n",
       "      <td>122391.0</td>\n",
       "      <td>121872.0</td>\n",
       "    </tr>\n",
       "    <tr>\n",
       "      <th>2</th>\n",
       "      <td>57081.0</td>\n",
       "      <td>56375.5</td>\n",
       "    </tr>\n",
       "    <tr>\n",
       "      <th>3</th>\n",
       "      <td>63218.0</td>\n",
       "      <td>56375.5</td>\n",
       "    </tr>\n",
       "    <tr>\n",
       "      <th>4</th>\n",
       "      <td>116969.0</td>\n",
       "      <td>112635.0</td>\n",
       "    </tr>\n",
       "    <tr>\n",
       "      <th>5</th>\n",
       "      <td>109431.0</td>\n",
       "      <td>105582.0</td>\n",
       "    </tr>\n",
       "  </tbody>\n",
       "</table>\n",
       "</div>"
      ],
      "text/plain": [
       "     Actual  Predicted\n",
       "0   37731.0    46205.0\n",
       "1  122391.0   121872.0\n",
       "2   57081.0    56375.5\n",
       "3   63218.0    56375.5\n",
       "4  116969.0   112635.0\n",
       "5  109431.0   105582.0"
      ]
     },
     "execution_count": 22,
     "metadata": {},
     "output_type": "execute_result"
    }
   ],
   "source": [
    "df = pd.DataFrame({'Actual': y_test, 'Predicted': y_pred})\n",
    "df"
   ]
  },
  {
   "cell_type": "code",
   "execution_count": 23,
   "id": "2f5dd4a0-f1cd-42ef-8ba3-b512b720100c",
   "metadata": {},
   "outputs": [
    {
     "name": "stdout",
     "output_type": "stream",
     "text": [
      "Mean Squared Error: 25498988.416666668\n",
      "Mean Absolute Error: 4120.666666666667\n"
     ]
    },
    {
     "data": {
      "text/plain": [
       "5.421715809463662"
      ]
     },
     "execution_count": 23,
     "metadata": {},
     "output_type": "execute_result"
    }
   ],
   "source": [
    "from sklearn import metrics\n",
    "print('Mean Squared Error:', metrics.mean_squared_error(y_test, y_pred))\n",
    "print('Mean Absolute Error:', metrics.mean_absolute_error(y_test, y_pred))\n",
    "\n",
    "metrics.mean_absolute_error(y_test, y_pred) / np.average(y) * 100"
   ]
  },
  {
   "cell_type": "markdown",
   "id": "a339e009-af9b-4607-bf80-3d2bb74cb391",
   "metadata": {},
   "source": [
    "<div style=\"font-size: 18px\"><b>Задание</b></div>\n",
    "<br><i>Постройте модель регрессии для данных из предыдущей рабочей тетради. Для примера можно взять потребления газа (в миллионах галлонов) в 48 штатах США. Постройте прогноз. Оцените точность модели</i>"
   ]
  },
  {
   "cell_type": "code",
   "execution_count": 24,
   "id": "16b71d73-fbad-44d5-82d0-6f462cee57df",
   "metadata": {},
   "outputs": [
    {
     "data": {
      "text/html": [
       "<div>\n",
       "<style scoped>\n",
       "    .dataframe tbody tr th:only-of-type {\n",
       "        vertical-align: middle;\n",
       "    }\n",
       "\n",
       "    .dataframe tbody tr th {\n",
       "        vertical-align: top;\n",
       "    }\n",
       "\n",
       "    .dataframe thead th {\n",
       "        text-align: right;\n",
       "    }\n",
       "</style>\n",
       "<table border=\"1\" class=\"dataframe\">\n",
       "  <thead>\n",
       "    <tr style=\"text-align: right;\">\n",
       "      <th></th>\n",
       "      <th>Petrol_tax</th>\n",
       "      <th>Average_income</th>\n",
       "      <th>Paved_Highways</th>\n",
       "      <th>Population_Driver_licence(%)</th>\n",
       "      <th>Petrol_Consumption</th>\n",
       "    </tr>\n",
       "  </thead>\n",
       "  <tbody>\n",
       "    <tr>\n",
       "      <th>0</th>\n",
       "      <td>9.0</td>\n",
       "      <td>3571</td>\n",
       "      <td>1976</td>\n",
       "      <td>0.525</td>\n",
       "      <td>541</td>\n",
       "    </tr>\n",
       "    <tr>\n",
       "      <th>1</th>\n",
       "      <td>9.0</td>\n",
       "      <td>4092</td>\n",
       "      <td>1250</td>\n",
       "      <td>0.572</td>\n",
       "      <td>524</td>\n",
       "    </tr>\n",
       "    <tr>\n",
       "      <th>2</th>\n",
       "      <td>9.0</td>\n",
       "      <td>3865</td>\n",
       "      <td>1586</td>\n",
       "      <td>0.580</td>\n",
       "      <td>561</td>\n",
       "    </tr>\n",
       "    <tr>\n",
       "      <th>3</th>\n",
       "      <td>7.5</td>\n",
       "      <td>4870</td>\n",
       "      <td>2351</td>\n",
       "      <td>0.529</td>\n",
       "      <td>414</td>\n",
       "    </tr>\n",
       "    <tr>\n",
       "      <th>4</th>\n",
       "      <td>8.0</td>\n",
       "      <td>4399</td>\n",
       "      <td>431</td>\n",
       "      <td>0.544</td>\n",
       "      <td>410</td>\n",
       "    </tr>\n",
       "  </tbody>\n",
       "</table>\n",
       "</div>"
      ],
      "text/plain": [
       "   Petrol_tax  Average_income  Paved_Highways  Population_Driver_licence(%)  \\\n",
       "0         9.0            3571            1976                         0.525   \n",
       "1         9.0            4092            1250                         0.572   \n",
       "2         9.0            3865            1586                         0.580   \n",
       "3         7.5            4870            2351                         0.529   \n",
       "4         8.0            4399             431                         0.544   \n",
       "\n",
       "   Petrol_Consumption  \n",
       "0                 541  \n",
       "1                 524  \n",
       "2                 561  \n",
       "3                 414  \n",
       "4                 410  "
      ]
     },
     "execution_count": 24,
     "metadata": {},
     "output_type": "execute_result"
    }
   ],
   "source": [
    "import pandas as pd\n",
    "import numpy as np\n",
    "import matplotlib.pyplot as plt\n",
    "\n",
    "url = r'https://raw.githubusercontent.com/likarajo/petrol_consumption/master/data/petrol_consumption.csv'\n",
    "dataset = pd.read_csv(url)\n",
    "dataset.head()"
   ]
  },
  {
   "cell_type": "code",
   "execution_count": 25,
   "id": "73c5f18c-f24b-4446-b31d-f759708bea36",
   "metadata": {},
   "outputs": [
    {
     "name": "stdout",
     "output_type": "stream",
     "text": [
      "(48, 5)\n"
     ]
    },
    {
     "data": {
      "text/html": [
       "<div>\n",
       "<style scoped>\n",
       "    .dataframe tbody tr th:only-of-type {\n",
       "        vertical-align: middle;\n",
       "    }\n",
       "\n",
       "    .dataframe tbody tr th {\n",
       "        vertical-align: top;\n",
       "    }\n",
       "\n",
       "    .dataframe thead th {\n",
       "        text-align: right;\n",
       "    }\n",
       "</style>\n",
       "<table border=\"1\" class=\"dataframe\">\n",
       "  <thead>\n",
       "    <tr style=\"text-align: right;\">\n",
       "      <th></th>\n",
       "      <th>Petrol_tax</th>\n",
       "      <th>Average_income</th>\n",
       "      <th>Paved_Highways</th>\n",
       "      <th>Population_Driver_licence(%)</th>\n",
       "      <th>Petrol_Consumption</th>\n",
       "    </tr>\n",
       "  </thead>\n",
       "  <tbody>\n",
       "    <tr>\n",
       "      <th>count</th>\n",
       "      <td>48.000000</td>\n",
       "      <td>48.000000</td>\n",
       "      <td>48.000000</td>\n",
       "      <td>48.000000</td>\n",
       "      <td>48.000000</td>\n",
       "    </tr>\n",
       "    <tr>\n",
       "      <th>mean</th>\n",
       "      <td>7.668333</td>\n",
       "      <td>4241.833333</td>\n",
       "      <td>5565.416667</td>\n",
       "      <td>0.570333</td>\n",
       "      <td>576.770833</td>\n",
       "    </tr>\n",
       "    <tr>\n",
       "      <th>std</th>\n",
       "      <td>0.950770</td>\n",
       "      <td>573.623768</td>\n",
       "      <td>3491.507166</td>\n",
       "      <td>0.055470</td>\n",
       "      <td>111.885816</td>\n",
       "    </tr>\n",
       "    <tr>\n",
       "      <th>min</th>\n",
       "      <td>5.000000</td>\n",
       "      <td>3063.000000</td>\n",
       "      <td>431.000000</td>\n",
       "      <td>0.451000</td>\n",
       "      <td>344.000000</td>\n",
       "    </tr>\n",
       "    <tr>\n",
       "      <th>25%</th>\n",
       "      <td>7.000000</td>\n",
       "      <td>3739.000000</td>\n",
       "      <td>3110.250000</td>\n",
       "      <td>0.529750</td>\n",
       "      <td>509.500000</td>\n",
       "    </tr>\n",
       "    <tr>\n",
       "      <th>50%</th>\n",
       "      <td>7.500000</td>\n",
       "      <td>4298.000000</td>\n",
       "      <td>4735.500000</td>\n",
       "      <td>0.564500</td>\n",
       "      <td>568.500000</td>\n",
       "    </tr>\n",
       "    <tr>\n",
       "      <th>75%</th>\n",
       "      <td>8.125000</td>\n",
       "      <td>4578.750000</td>\n",
       "      <td>7156.000000</td>\n",
       "      <td>0.595250</td>\n",
       "      <td>632.750000</td>\n",
       "    </tr>\n",
       "    <tr>\n",
       "      <th>max</th>\n",
       "      <td>10.000000</td>\n",
       "      <td>5342.000000</td>\n",
       "      <td>17782.000000</td>\n",
       "      <td>0.724000</td>\n",
       "      <td>968.000000</td>\n",
       "    </tr>\n",
       "  </tbody>\n",
       "</table>\n",
       "</div>"
      ],
      "text/plain": [
       "       Petrol_tax  Average_income  Paved_Highways  \\\n",
       "count   48.000000       48.000000       48.000000   \n",
       "mean     7.668333     4241.833333     5565.416667   \n",
       "std      0.950770      573.623768     3491.507166   \n",
       "min      5.000000     3063.000000      431.000000   \n",
       "25%      7.000000     3739.000000     3110.250000   \n",
       "50%      7.500000     4298.000000     4735.500000   \n",
       "75%      8.125000     4578.750000     7156.000000   \n",
       "max     10.000000     5342.000000    17782.000000   \n",
       "\n",
       "       Population_Driver_licence(%)  Petrol_Consumption  \n",
       "count                     48.000000           48.000000  \n",
       "mean                       0.570333          576.770833  \n",
       "std                        0.055470          111.885816  \n",
       "min                        0.451000          344.000000  \n",
       "25%                        0.529750          509.500000  \n",
       "50%                        0.564500          568.500000  \n",
       "75%                        0.595250          632.750000  \n",
       "max                        0.724000          968.000000  "
      ]
     },
     "execution_count": 25,
     "metadata": {},
     "output_type": "execute_result"
    }
   ],
   "source": [
    "print(dataset.shape)\n",
    "dataset.describe()"
   ]
  },
  {
   "cell_type": "code",
   "execution_count": 26,
   "id": "0d114cd7-1232-492a-a74a-10b85f64133e",
   "metadata": {},
   "outputs": [
    {
     "data": {
      "image/png": "[encoded data removed]",
      "text/plain": [
       "<Figure size 640x480 with 1 Axes>"
      ]
     },
     "metadata": {},
     "output_type": "display_data"
    }
   ],
   "source": [
    "plt.scatter(dataset['Average_income'], dataset['Petrol_Consumption'], color = 'r', label=\"Потребление бензина\")\n",
    "plt.xlabel(\"Средний доход\")\n",
    "plt.ylabel(\"Потребление бензина\")\n",
    "plt.show()"
   ]
  },
  {
   "cell_type": "code",
   "execution_count": 27,
   "id": "f07cdb77-c61b-4dae-b50c-c8df38f274c9",
   "metadata": {},
   "outputs": [
    {
     "name": "stdout",
     "output_type": "stream",
     "text": [
      "[[9.0000e+00 3.5710e+03 1.9760e+03 5.2500e-01]\n",
      " [9.0000e+00 4.0920e+03 1.2500e+03 5.7200e-01]\n",
      " [9.0000e+00 3.8650e+03 1.5860e+03 5.8000e-01]\n",
      " [7.5000e+00 4.8700e+03 2.3510e+03 5.2900e-01]\n",
      " [8.0000e+00 4.3990e+03 4.3100e+02 5.4400e-01]\n",
      " [1.0000e+01 5.3420e+03 1.3330e+03 5.7100e-01]\n",
      " [8.0000e+00 5.3190e+03 1.1868e+04 4.5100e-01]\n",
      " [8.0000e+00 5.1260e+03 2.1380e+03 5.5300e-01]\n",
      " [8.0000e+00 4.4470e+03 8.5770e+03 5.2900e-01]\n",
      " [7.0000e+00 4.5120e+03 8.5070e+03 5.5200e-01]\n",
      " [8.0000e+00 4.3910e+03 5.9390e+03 5.3000e-01]\n",
      " [7.5000e+00 5.1260e+03 1.4186e+04 5.2500e-01]\n",
      " [7.0000e+00 4.8170e+03 6.9300e+03 5.7400e-01]\n",
      " [7.0000e+00 4.2070e+03 6.5800e+03 5.4500e-01]\n",
      " [7.0000e+00 4.3320e+03 8.1590e+03 6.0800e-01]\n",
      " [7.0000e+00 4.3180e+03 1.0340e+04 5.8600e-01]\n",
      " [7.0000e+00 4.2060e+03 8.5080e+03 5.7200e-01]\n",
      " [7.0000e+00 3.7180e+03 4.7250e+03 5.4000e-01]\n",
      " [7.0000e+00 4.7160e+03 5.9150e+03 7.2400e-01]\n",
      " [8.5000e+00 4.3410e+03 6.0100e+03 6.7700e-01]\n",
      " [7.0000e+00 4.5930e+03 7.8340e+03 6.6300e-01]\n",
      " [8.0000e+00 4.9830e+03 6.0200e+02 6.0200e-01]\n",
      " [9.0000e+00 4.8970e+03 2.4490e+03 5.1100e-01]\n",
      " [9.0000e+00 4.2580e+03 4.6860e+03 5.1700e-01]\n",
      " [8.5000e+00 4.5740e+03 2.6190e+03 5.5100e-01]\n",
      " [9.0000e+00 3.7210e+03 4.7460e+03 5.4400e-01]\n",
      " [8.0000e+00 3.4480e+03 5.3990e+03 5.4800e-01]\n",
      " [7.5000e+00 3.8460e+03 9.0610e+03 5.7900e-01]\n",
      " [8.0000e+00 4.1880e+03 5.9750e+03 5.6300e-01]\n",
      " [9.0000e+00 3.6010e+03 4.6500e+03 4.9300e-01]\n",
      " [7.0000e+00 3.6400e+03 6.9050e+03 5.1800e-01]\n",
      " [7.0000e+00 3.3330e+03 6.5940e+03 5.1300e-01]\n",
      " [8.0000e+00 3.0630e+03 6.5240e+03 5.7800e-01]\n",
      " [7.5000e+00 3.3570e+03 4.1210e+03 5.4700e-01]\n",
      " [8.0000e+00 3.5280e+03 3.4950e+03 4.8700e-01]\n",
      " [6.5800e+00 3.8020e+03 7.8340e+03 6.2900e-01]\n",
      " [5.0000e+00 4.0450e+03 1.7782e+04 5.6600e-01]\n",
      " [7.0000e+00 3.8970e+03 6.3850e+03 5.8600e-01]\n",
      " [8.5000e+00 3.6350e+03 3.2740e+03 6.6300e-01]\n",
      " [7.0000e+00 4.3450e+03 3.9050e+03 6.7200e-01]\n",
      " [7.0000e+00 4.4490e+03 4.6390e+03 6.2600e-01]\n",
      " [7.0000e+00 3.6560e+03 3.9850e+03 5.6300e-01]\n",
      " [7.0000e+00 4.3000e+03 3.6350e+03 6.0300e-01]\n",
      " [7.0000e+00 3.7450e+03 2.6110e+03 5.0800e-01]\n",
      " [6.0000e+00 5.2150e+03 2.3020e+03 6.7200e-01]\n",
      " [9.0000e+00 4.4760e+03 3.9420e+03 5.7100e-01]\n",
      " [7.0000e+00 4.2960e+03 4.0830e+03 6.2300e-01]\n",
      " [7.0000e+00 5.0020e+03 9.7940e+03 5.9300e-01]]\n",
      "[3571 4092 3865 4870 4399 5342 5319 5126 4447 4512 4391 5126 4817 4207\n",
      " 4332 4318 4206 3718 4716 4341 4593 4983 4897 4258 4574 3721 3448 3846\n",
      " 4188 3601 3640 3333 3063 3357 3528 3802 4045 3897 3635 4345 4449 3656\n",
      " 4300 3745 5215 4476 4296 5002]\n"
     ]
    }
   ],
   "source": [
    "from sklearn.tree import DecisionTreeRegressor\n",
    "X = dataset.iloc[:, :-1].values\n",
    "y = dataset.iloc[:, 1].values\n",
    "\n",
    "print(X)\n",
    "print(y)"
   ]
  },
  {
   "cell_type": "code",
   "execution_count": 28,
   "id": "6a2650d0-3a1a-4b88-9e64-1eb5466715cb",
   "metadata": {},
   "outputs": [
    {
     "data": {
      "text/html": [
       "<style>#sk-container-id-2 {color: black;}#sk-container-id-2 pre{padding: 0;}#sk-container-id-2 div.sk-toggleable {background-color: white;}#sk-container-id-2 label.sk-toggleable__label {cursor: pointer;display: block;width: 100%;margin-bottom: 0;padding: 0.3em;box-sizing: border-box;text-align: center;}#sk-container-id-2 label.sk-toggleable__label-arrow:before {content: \"▸\";float: left;margin-right: 0.25em;color: #696969;}#sk-container-id-2 label.sk-toggleable__label-arrow:hover:before {color: black;}#sk-container-id-2 div.sk-estimator:hover label.sk-toggleable__label-arrow:before {color: black;}#sk-container-id-2 div.sk-toggleable__content {max-height: 0;max-width: 0;overflow: hidden;text-align: left;background-color: #f0f8ff;}#sk-container-id-2 div.sk-toggleable__content pre {margin: 0.2em;color: black;border-radius: 0.25em;background-color: #f0f8ff;}#sk-container-id-2 input.sk-toggleable__control:checked~div.sk-toggleable__content {max-height: 200px;max-width: 100%;overflow: auto;}#sk-container-id-2 input.sk-toggleable__control:checked~label.sk-toggleable__label-arrow:before {content: \"▾\";}#sk-container-id-2 div.sk-estimator input.sk-toggleable__control:checked~label.sk-toggleable__label {background-color: #d4ebff;}#sk-container-id-2 div.sk-label input.sk-toggleable__control:checked~label.sk-toggleable__label {background-color: #d4ebff;}#sk-container-id-2 input.sk-hidden--visually {border: 0;clip: rect(1px 1px 1px 1px);clip: rect(1px, 1px, 1px, 1px);height: 1px;margin: -1px;overflow: hidden;padding: 0;position: absolute;width: 1px;}#sk-container-id-2 div.sk-estimator {font-family: monospace;background-color: #f0f8ff;border: 1px dotted black;border-radius: 0.25em;box-sizing: border-box;margin-bottom: 0.5em;}#sk-container-id-2 div.sk-estimator:hover {background-color: #d4ebff;}#sk-container-id-2 div.sk-parallel-item::after {content: \"\";width: 100%;border-bottom: 1px solid gray;flex-grow: 1;}#sk-container-id-2 div.sk-label:hover label.sk-toggleable__label {background-color: #d4ebff;}#sk-container-id-2 div.sk-serial::before {content: \"\";position: absolute;border-left: 1px solid gray;box-sizing: border-box;top: 0;bottom: 0;left: 50%;z-index: 0;}#sk-container-id-2 div.sk-serial {display: flex;flex-direction: column;align-items: center;background-color: white;padding-right: 0.2em;padding-left: 0.2em;position: relative;}#sk-container-id-2 div.sk-item {position: relative;z-index: 1;}#sk-container-id-2 div.sk-parallel {display: flex;align-items: stretch;justify-content: center;background-color: white;position: relative;}#sk-container-id-2 div.sk-item::before, #sk-container-id-2 div.sk-parallel-item::before {content: \"\";position: absolute;border-left: 1px solid gray;box-sizing: border-box;top: 0;bottom: 0;left: 50%;z-index: -1;}#sk-container-id-2 div.sk-parallel-item {display: flex;flex-direction: column;z-index: 1;position: relative;background-color: white;}#sk-container-id-2 div.sk-parallel-item:first-child::after {align-self: flex-end;width: 50%;}#sk-container-id-2 div.sk-parallel-item:last-child::after {align-self: flex-start;width: 50%;}#sk-container-id-2 div.sk-parallel-item:only-child::after {width: 0;}#sk-container-id-2 div.sk-dashed-wrapped {border: 1px dashed gray;margin: 0 0.4em 0.5em 0.4em;box-sizing: border-box;padding-bottom: 0.4em;background-color: white;}#sk-container-id-2 div.sk-label label {font-family: monospace;font-weight: bold;display: inline-block;line-height: 1.2em;}#sk-container-id-2 div.sk-label-container {text-align: center;}#sk-container-id-2 div.sk-container {/* jupyter's `normalize.less` sets `[hidden] { display: none; }` but bootstrap.min.css set `[hidden] { display: none !important; }` so we also need the `!important` here to be able to override the default hidden behavior on the sphinx rendered scikit-learn.org. See: https://github.com/scikit-learn/scikit-learn/issues/21755 */display: inline-block !important;position: relative;}#sk-container-id-2 div.sk-text-repr-fallback {display: none;}</style><div id=\"sk-container-id-2\" class=\"sk-top-container\"><div class=\"sk-text-repr-fallback\"><pre>DecisionTreeRegressor()</pre><b>In a Jupyter environment, please rerun this cell to show the HTML representation or trust the notebook. <br />On GitHub, the HTML representation is unable to render, please try loading this page with nbviewer.org.</b></div><div class=\"sk-container\" hidden><div class=\"sk-item\"><div class=\"sk-estimator sk-toggleable\"><input class=\"sk-toggleable__control sk-hidden--visually\" id=\"sk-estimator-id-2\" type=\"checkbox\" checked><label for=\"sk-estimator-id-2\" class=\"sk-toggleable__label sk-toggleable__label-arrow\">DecisionTreeRegressor</label><div class=\"sk-toggleable__content\"><pre>DecisionTreeRegressor()</pre></div></div></div></div></div>"
      ],
      "text/plain": [
       "DecisionTreeRegressor()"
      ]
     },
     "execution_count": 28,
     "metadata": {},
     "output_type": "execute_result"
    }
   ],
   "source": [
    "X_train, X_test, y_train, y_test = train_test_split(X, y, test_size = 0.2, random_state = 0)\n",
    "regressor = DecisionTreeRegressor()\n",
    "regressor.fit(X_train, y_train)"
   ]
  },
  {
   "cell_type": "code",
   "execution_count": 29,
   "id": "d6c0c90c-6bcc-4400-8d3f-20f626d58d7e",
   "metadata": {},
   "outputs": [
    {
     "data": {
      "text/plain": [
       "[Text(0.49888392857142855, 0.9375, 'x[1] <= 4396.0\\nsquared_error = 288278.46\\nsamples = 38\\nvalue = 4317.526'),\n",
       " Text(0.24330357142857142, 0.8125, 'x[1] <= 3955.0\\nsquared_error = 103912.083\\nsamples = 23\\nvalue = 3964.217'),\n",
       " Text(0.09375, 0.6875, 'x[1] <= 3464.0\\nsquared_error = 28944.0\\nsamples = 11\\nvalue = 3659.0'),\n",
       " Text(0.03571428571428571, 0.5625, 'x[1] <= 3345.0\\nsquared_error = 144.0\\nsamples = 2\\nvalue = 3345.0'),\n",
       " Text(0.017857142857142856, 0.4375, 'squared_error = 0.0\\nsamples = 1\\nvalue = 3333.0'),\n",
       " Text(0.05357142857142857, 0.4375, 'squared_error = 0.0\\nsamples = 1\\nvalue = 3357.0'),\n",
       " Text(0.15178571428571427, 0.5625, 'x[1] <= 3773.5\\nsquared_error = 8564.84\\nsamples = 9\\nvalue = 3728.778'),\n",
       " Text(0.08928571428571429, 0.4375, 'x[1] <= 3687.0\\nsquared_error = 3606.556\\nsamples = 6\\nvalue = 3674.333'),\n",
       " Text(0.05357142857142857, 0.3125, 'x[1] <= 3603.0\\nsquared_error = 1306.889\\nsamples = 3\\nvalue = 3620.667'),\n",
       " Text(0.03571428571428571, 0.1875, 'squared_error = 0.0\\nsamples = 1\\nvalue = 3571.0'),\n",
       " Text(0.07142857142857142, 0.1875, 'x[2] <= 3629.5\\nsquared_error = 110.25\\nsamples = 2\\nvalue = 3645.5'),\n",
       " Text(0.05357142857142857, 0.0625, 'squared_error = 0.0\\nsamples = 1\\nvalue = 3635.0'),\n",
       " Text(0.08928571428571429, 0.0625, 'squared_error = 0.0\\nsamples = 1\\nvalue = 3656.0'),\n",
       " Text(0.125, 0.3125, 'x[3] <= 0.524\\nsquared_error = 146.0\\nsamples = 3\\nvalue = 3728.0'),\n",
       " Text(0.10714285714285714, 0.1875, 'squared_error = 0.0\\nsamples = 1\\nvalue = 3745.0'),\n",
       " Text(0.14285714285714285, 0.1875, 'x[2] <= 4735.5\\nsquared_error = 2.25\\nsamples = 2\\nvalue = 3719.5'),\n",
       " Text(0.125, 0.0625, 'squared_error = 0.0\\nsamples = 1\\nvalue = 3718.0'),\n",
       " Text(0.16071428571428573, 0.0625, 'squared_error = 0.0\\nsamples = 1\\nvalue = 3721.0'),\n",
       " Text(0.21428571428571427, 0.4375, 'x[3] <= 0.604\\nsquared_error = 696.222\\nsamples = 3\\nvalue = 3837.667'),\n",
       " Text(0.19642857142857142, 0.3125, 'x[3] <= 0.579\\nsquared_error = 90.25\\nsamples = 2\\nvalue = 3855.5'),\n",
       " Text(0.17857142857142858, 0.1875, 'squared_error = 0.0\\nsamples = 1\\nvalue = 3846.0'),\n",
       " Text(0.21428571428571427, 0.1875, 'squared_error = 0.0\\nsamples = 1\\nvalue = 3865.0'),\n",
       " Text(0.23214285714285715, 0.3125, 'squared_error = 0.0\\nsamples = 1\\nvalue = 3802.0'),\n",
       " Text(0.39285714285714285, 0.6875, 'x[1] <= 4232.5\\nsquared_error = 8960.0\\nsamples = 12\\nvalue = 4244.0'),\n",
       " Text(0.32142857142857145, 0.5625, 'x[1] <= 4140.0\\nsquared_error = 4437.84\\nsamples = 5\\nvalue = 4147.6'),\n",
       " Text(0.2857142857142857, 0.4375, 'x[0] <= 7.0\\nsquared_error = 552.25\\nsamples = 2\\nvalue = 4068.5'),\n",
       " Text(0.26785714285714285, 0.3125, 'squared_error = 0.0\\nsamples = 1\\nvalue = 4045.0'),\n",
       " Text(0.30357142857142855, 0.3125, 'squared_error = 0.0\\nsamples = 1\\nvalue = 4092.0'),\n",
       " Text(0.35714285714285715, 0.4375, 'x[1] <= 4197.0\\nsquared_error = 76.222\\nsamples = 3\\nvalue = 4200.333'),\n",
       " Text(0.3392857142857143, 0.3125, 'squared_error = 0.0\\nsamples = 1\\nvalue = 4188.0'),\n",
       " Text(0.375, 0.3125, 'x[1] <= 4206.5\\nsquared_error = 0.25\\nsamples = 2\\nvalue = 4206.5'),\n",
       " Text(0.35714285714285715, 0.1875, 'squared_error = 0.0\\nsamples = 1\\nvalue = 4206.0'),\n",
       " Text(0.39285714285714285, 0.1875, 'squared_error = 0.0\\nsamples = 1\\nvalue = 4207.0'),\n",
       " Text(0.4642857142857143, 0.5625, 'x[1] <= 4309.0\\nsquared_error = 810.98\\nsamples = 7\\nvalue = 4312.857'),\n",
       " Text(0.42857142857142855, 0.4375, 'x[1] <= 4277.0\\nsquared_error = 358.222\\nsamples = 3\\nvalue = 4284.667'),\n",
       " Text(0.4107142857142857, 0.3125, 'squared_error = 0.0\\nsamples = 1\\nvalue = 4258.0'),\n",
       " Text(0.44642857142857145, 0.3125, 'x[3] <= 0.613\\nsquared_error = 4.0\\nsamples = 2\\nvalue = 4298.0'),\n",
       " Text(0.42857142857142855, 0.1875, 'squared_error = 0.0\\nsamples = 1\\nvalue = 4300.0'),\n",
       " Text(0.4642857142857143, 0.1875, 'squared_error = 0.0\\nsamples = 1\\nvalue = 4296.0'),\n",
       " Text(0.5, 0.4375, 'x[3] <= 0.597\\nsquared_error = 107.5\\nsamples = 4\\nvalue = 4334.0'),\n",
       " Text(0.48214285714285715, 0.3125, 'squared_error = 0.0\\nsamples = 1\\nvalue = 4318.0'),\n",
       " Text(0.5178571428571429, 0.3125, 'x[3] <= 0.64\\nsquared_error = 29.556\\nsamples = 3\\nvalue = 4339.333'),\n",
       " Text(0.5, 0.1875, 'squared_error = 0.0\\nsamples = 1\\nvalue = 4332.0'),\n",
       " Text(0.5357142857142857, 0.1875, 'x[0] <= 7.75\\nsquared_error = 4.0\\nsamples = 2\\nvalue = 4343.0'),\n",
       " Text(0.5178571428571429, 0.0625, 'squared_error = 0.0\\nsamples = 1\\nvalue = 4345.0'),\n",
       " Text(0.5535714285714286, 0.0625, 'squared_error = 0.0\\nsamples = 1\\nvalue = 4341.0'),\n",
       " Text(0.7544642857142857, 0.8125, 'x[1] <= 4843.5\\nsquared_error = 86089.262\\nsamples = 15\\nvalue = 4859.267'),\n",
       " Text(0.6517857142857143, 0.6875, 'x[1] <= 4654.5\\nsquared_error = 15313.633\\nsamples = 7\\nvalue = 4590.714'),\n",
       " Text(0.6071428571428571, 0.5625, 'x[1] <= 4543.0\\nsquared_error = 3114.64\\nsamples = 5\\nvalue = 4520.4'),\n",
       " Text(0.5714285714285714, 0.4375, 'x[0] <= 7.5\\nsquared_error = 706.889\\nsamples = 3\\nvalue = 4478.333'),\n",
       " Text(0.5535714285714286, 0.3125, 'squared_error = 0.0\\nsamples = 1\\nvalue = 4512.0'),\n",
       " Text(0.5892857142857143, 0.3125, 'x[0] <= 8.5\\nsquared_error = 210.25\\nsamples = 2\\nvalue = 4461.5'),\n",
       " Text(0.5714285714285714, 0.1875, 'squared_error = 0.0\\nsamples = 1\\nvalue = 4447.0'),\n",
       " Text(0.6071428571428571, 0.1875, 'squared_error = 0.0\\nsamples = 1\\nvalue = 4476.0'),\n",
       " Text(0.6428571428571429, 0.4375, 'x[1] <= 4583.5\\nsquared_error = 90.25\\nsamples = 2\\nvalue = 4583.5'),\n",
       " Text(0.625, 0.3125, 'squared_error = 0.0\\nsamples = 1\\nvalue = 4574.0'),\n",
       " Text(0.6607142857142857, 0.3125, 'squared_error = 0.0\\nsamples = 1\\nvalue = 4593.0'),\n",
       " Text(0.6964285714285714, 0.5625, 'x[2] <= 6422.5\\nsquared_error = 2550.25\\nsamples = 2\\nvalue = 4766.5'),\n",
       " Text(0.6785714285714286, 0.4375, 'squared_error = 0.0\\nsamples = 1\\nvalue = 4716.0'),\n",
       " Text(0.7142857142857143, 0.4375, 'squared_error = 0.0\\nsamples = 1\\nvalue = 4817.0'),\n",
       " Text(0.8571428571428571, 0.6875, 'x[1] <= 5064.0\\nsquared_error = 29695.438\\nsamples = 8\\nvalue = 5094.25'),\n",
       " Text(0.7857142857142857, 0.5625, 'x[3] <= 0.561\\nsquared_error = 3106.5\\nsamples = 4\\nvalue = 4938.0'),\n",
       " Text(0.75, 0.4375, 'x[2] <= 2400.0\\nsquared_error = 182.25\\nsamples = 2\\nvalue = 4883.5'),\n",
       " Text(0.7321428571428571, 0.3125, 'squared_error = 0.0\\nsamples = 1\\nvalue = 4870.0'),\n",
       " Text(0.7678571428571429, 0.3125, 'squared_error = 0.0\\nsamples = 1\\nvalue = 4897.0'),\n",
       " Text(0.8214285714285714, 0.4375, 'x[1] <= 4992.5\\nsquared_error = 90.25\\nsamples = 2\\nvalue = 4992.5'),\n",
       " Text(0.8035714285714286, 0.3125, 'squared_error = 0.0\\nsamples = 1\\nvalue = 4983.0'),\n",
       " Text(0.8392857142857143, 0.3125, 'squared_error = 0.0\\nsamples = 1\\nvalue = 5002.0'),\n",
       " Text(0.9285714285714286, 0.5625, 'x[0] <= 7.75\\nsquared_error = 7456.25\\nsamples = 4\\nvalue = 5250.5'),\n",
       " Text(0.8928571428571429, 0.4375, 'x[0] <= 6.75\\nsquared_error = 1980.25\\nsamples = 2\\nvalue = 5170.5'),\n",
       " Text(0.875, 0.3125, 'squared_error = 0.0\\nsamples = 1\\nvalue = 5215.0'),\n",
       " Text(0.9107142857142857, 0.3125, 'squared_error = 0.0\\nsamples = 1\\nvalue = 5126.0'),\n",
       " Text(0.9642857142857143, 0.4375, 'x[0] <= 9.0\\nsquared_error = 132.25\\nsamples = 2\\nvalue = 5330.5'),\n",
       " Text(0.9464285714285714, 0.3125, 'squared_error = 0.0\\nsamples = 1\\nvalue = 5319.0'),\n",
       " Text(0.9821428571428571, 0.3125, 'squared_error = 0.0\\nsamples = 1\\nvalue = 5342.0')]"
      ]
     },
     "execution_count": 29,
     "metadata": {},
     "output_type": "execute_result"
    },
    {
     "data": {
      "image/png": "[encoded data removed]",
      "text/plain": [
       "<Figure size 640x480 with 1 Axes>"
      ]
     },
     "metadata": {},
     "output_type": "display_data"
    }
   ],
   "source": [
    "from sklearn import tree\n",
    "tree.plot_tree(regressor)"
   ]
  },
  {
   "cell_type": "code",
   "execution_count": 30,
   "id": "3be8dbbd-8c03-490f-8af7-9dd58acec687",
   "metadata": {},
   "outputs": [
    {
     "data": {
      "text/plain": [
       "array([3571., 4447., 3357., 3656., 3333., 3865., 3571., 4512., 5319.,\n",
       "       4318.])"
      ]
     },
     "execution_count": 30,
     "metadata": {},
     "output_type": "execute_result"
    }
   ],
   "source": [
    "y_pred = regressor.predict(X_test)\n",
    "y_pred"
   ]
  },
  {
   "cell_type": "code",
   "execution_count": 31,
   "id": "b8e1d4be-69f9-425e-829e-279d68af7b29",
   "metadata": {},
   "outputs": [
    {
     "data": {
      "text/html": [
       "<div>\n",
       "<style scoped>\n",
       "    .dataframe tbody tr th:only-of-type {\n",
       "        vertical-align: middle;\n",
       "    }\n",
       "\n",
       "    .dataframe tbody tr th {\n",
       "        vertical-align: top;\n",
       "    }\n",
       "\n",
       "    .dataframe thead th {\n",
       "        text-align: right;\n",
       "    }\n",
       "</style>\n",
       "<table border=\"1\" class=\"dataframe\">\n",
       "  <thead>\n",
       "    <tr style=\"text-align: right;\">\n",
       "      <th></th>\n",
       "      <th>Actual</th>\n",
       "      <th>Predicted</th>\n",
       "    </tr>\n",
       "  </thead>\n",
       "  <tbody>\n",
       "    <tr>\n",
       "      <th>0</th>\n",
       "      <td>3601</td>\n",
       "      <td>3571.0</td>\n",
       "    </tr>\n",
       "    <tr>\n",
       "      <th>1</th>\n",
       "      <td>4399</td>\n",
       "      <td>4447.0</td>\n",
       "    </tr>\n",
       "    <tr>\n",
       "      <th>2</th>\n",
       "      <td>3448</td>\n",
       "      <td>3357.0</td>\n",
       "    </tr>\n",
       "    <tr>\n",
       "      <th>3</th>\n",
       "      <td>3640</td>\n",
       "      <td>3656.0</td>\n",
       "    </tr>\n",
       "    <tr>\n",
       "      <th>4</th>\n",
       "      <td>3063</td>\n",
       "      <td>3333.0</td>\n",
       "    </tr>\n",
       "    <tr>\n",
       "      <th>5</th>\n",
       "      <td>3897</td>\n",
       "      <td>3865.0</td>\n",
       "    </tr>\n",
       "    <tr>\n",
       "      <th>6</th>\n",
       "      <td>3528</td>\n",
       "      <td>3571.0</td>\n",
       "    </tr>\n",
       "    <tr>\n",
       "      <th>7</th>\n",
       "      <td>4449</td>\n",
       "      <td>4512.0</td>\n",
       "    </tr>\n",
       "    <tr>\n",
       "      <th>8</th>\n",
       "      <td>5126</td>\n",
       "      <td>5319.0</td>\n",
       "    </tr>\n",
       "    <tr>\n",
       "      <th>9</th>\n",
       "      <td>4391</td>\n",
       "      <td>4318.0</td>\n",
       "    </tr>\n",
       "  </tbody>\n",
       "</table>\n",
       "</div>"
      ],
      "text/plain": [
       "   Actual  Predicted\n",
       "0    3601     3571.0\n",
       "1    4399     4447.0\n",
       "2    3448     3357.0\n",
       "3    3640     3656.0\n",
       "4    3063     3333.0\n",
       "5    3897     3865.0\n",
       "6    3528     3571.0\n",
       "7    4449     4512.0\n",
       "8    5126     5319.0\n",
       "9    4391     4318.0"
      ]
     },
     "execution_count": 31,
     "metadata": {},
     "output_type": "execute_result"
    }
   ],
   "source": [
    "df = pd.DataFrame({'Actual':y_test, 'Predicted':y_pred})\n",
    "df"
   ]
  },
  {
   "cell_type": "code",
   "execution_count": 32,
   "id": "50123743-0094-44be-a39f-4ae3ac6e9e54",
   "metadata": {},
   "outputs": [
    {
     "name": "stdout",
     "output_type": "stream",
     "text": [
      "sq.error: 13406.1\n",
      "abs.error: 85.9\n"
     ]
    },
    {
     "data": {
      "text/plain": [
       "2.0250677772975525"
      ]
     },
     "execution_count": 32,
     "metadata": {},
     "output_type": "execute_result"
    }
   ],
   "source": [
    "from sklearn import metrics\n",
    "print('sq.error:', metrics.mean_squared_error(y_test, y_pred))\n",
    "print('abs.error:', metrics.mean_absolute_error(y_test, y_pred))\n",
    "metrics.mean_absolute_error(y_test, y_pred) / np.average(y) * 100"
   ]
  }
 ],
 "metadata": {
  "kernelspec": {
   "display_name": "Python 3 (ipykernel)",
   "language": "python",
   "name": "python3"
  },
  "language_info": {
   "codemirror_mode": {
    "name": "ipython",
    "version": 3
   },
   "file_extension": ".py",
   "mimetype": "text/x-python",
   "name": "python",
   "nbconvert_exporter": "python",
   "pygments_lexer": "ipython3",
   "version": "3.11.5"
  }
 },
 "nbformat": 4,
 "nbformat_minor": 5
}
